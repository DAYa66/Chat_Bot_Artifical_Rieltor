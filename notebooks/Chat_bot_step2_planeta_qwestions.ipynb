{
  "cells": [
    {
      "cell_type": "code",
      "execution_count": null,
      "metadata": {
        "id": "D_vn7ZlJKylh"
      },
      "outputs": [],
      "source": [
        "import pandas as pd\n",
        "import numpy as np"
      ]
    },
    {
      "cell_type": "code",
      "execution_count": null,
      "metadata": {
        "colab": {
          "base_uri": "https://localhost:8080/"
        },
        "id": "ICooXE6RnhDS",
        "outputId": "4c4718e8-ceab-47b8-a6dc-1369351ec8a7"
      },
      "outputs": [
        {
          "output_type": "stream",
          "name": "stdout",
          "text": [
            "Looking in indexes: https://pypi.org/simple, https://us-python.pkg.dev/colab-wheels/public/simple/\n",
            "Requirement already satisfied: annoy in /usr/local/lib/python3.7/dist-packages (1.17.0)\n"
          ]
        }
      ],
      "source": [
        "!pip install annoy"
      ]
    },
    {
      "cell_type": "code",
      "execution_count": null,
      "metadata": {
        "colab": {
          "base_uri": "https://localhost:8080/"
        },
        "id": "Cgeqr4FJnznD",
        "outputId": "a77e7ea1-6e5d-46e3-9f6e-4b15b115b3ff"
      },
      "outputs": [
        {
          "output_type": "stream",
          "name": "stdout",
          "text": [
            "Looking in indexes: https://pypi.org/simple, https://us-python.pkg.dev/colab-wheels/public/simple/\n",
            "Requirement already satisfied: pymorphy2 in /usr/local/lib/python3.7/dist-packages (0.9.1)\n",
            "Requirement already satisfied: docopt>=0.6 in /usr/local/lib/python3.7/dist-packages (from pymorphy2) (0.6.2)\n",
            "Requirement already satisfied: pymorphy2-dicts-ru<3.0,>=2.4 in /usr/local/lib/python3.7/dist-packages (from pymorphy2) (2.4.417127.4579844)\n",
            "Requirement already satisfied: dawg-python>=0.7.1 in /usr/local/lib/python3.7/dist-packages (from pymorphy2) (0.7.2)\n"
          ]
        }
      ],
      "source": [
        "!pip install pymorphy2"
      ]
    },
    {
      "cell_type": "code",
      "execution_count": null,
      "metadata": {
        "colab": {
          "base_uri": "https://localhost:8080/"
        },
        "id": "5jVmH0wan83n",
        "outputId": "27d0abff-5c87-4be2-8232-c503ce36082b"
      },
      "outputs": [
        {
          "output_type": "stream",
          "name": "stdout",
          "text": [
            "Looking in indexes: https://pypi.org/simple, https://us-python.pkg.dev/colab-wheels/public/simple/\n",
            "Requirement already satisfied: stop_words in /usr/local/lib/python3.7/dist-packages (2018.7.23)\n"
          ]
        }
      ],
      "source": [
        "!pip install stop_words"
      ]
    },
    {
      "cell_type": "code",
      "execution_count": null,
      "metadata": {
        "colab": {
          "base_uri": "https://localhost:8080/"
        },
        "id": "1kqHKqHBoGIX",
        "outputId": "a14ee6dd-3830-463b-8cb0-bd1fbfaa631e"
      },
      "outputs": [
        {
          "output_type": "stream",
          "name": "stdout",
          "text": [
            "Looking in indexes: https://pypi.org/simple, https://us-python.pkg.dev/colab-wheels/public/simple/\n",
            "Requirement already satisfied: transformers in /usr/local/lib/python3.7/dist-packages (4.21.0)\n",
            "Requirement already satisfied: regex!=2019.12.17 in /usr/local/lib/python3.7/dist-packages (from transformers) (2022.6.2)\n",
            "Requirement already satisfied: numpy>=1.17 in /usr/local/lib/python3.7/dist-packages (from transformers) (1.21.6)\n",
            "Requirement already satisfied: packaging>=20.0 in /usr/local/lib/python3.7/dist-packages (from transformers) (21.3)\n",
            "Requirement already satisfied: requests in /usr/local/lib/python3.7/dist-packages (from transformers) (2.23.0)\n",
            "Requirement already satisfied: pyyaml>=5.1 in /usr/local/lib/python3.7/dist-packages (from transformers) (6.0)\n",
            "Requirement already satisfied: tokenizers!=0.11.3,<0.13,>=0.11.1 in /usr/local/lib/python3.7/dist-packages (from transformers) (0.12.1)\n",
            "Requirement already satisfied: tqdm>=4.27 in /usr/local/lib/python3.7/dist-packages (from transformers) (4.64.0)\n",
            "Requirement already satisfied: filelock in /usr/local/lib/python3.7/dist-packages (from transformers) (3.7.1)\n",
            "Requirement already satisfied: huggingface-hub<1.0,>=0.1.0 in /usr/local/lib/python3.7/dist-packages (from transformers) (0.8.1)\n",
            "Requirement already satisfied: importlib-metadata in /usr/local/lib/python3.7/dist-packages (from transformers) (4.12.0)\n",
            "Requirement already satisfied: typing-extensions>=3.7.4.3 in /usr/local/lib/python3.7/dist-packages (from huggingface-hub<1.0,>=0.1.0->transformers) (4.1.1)\n",
            "Requirement already satisfied: pyparsing!=3.0.5,>=2.0.2 in /usr/local/lib/python3.7/dist-packages (from packaging>=20.0->transformers) (3.0.9)\n",
            "Requirement already satisfied: zipp>=0.5 in /usr/local/lib/python3.7/dist-packages (from importlib-metadata->transformers) (3.8.1)\n",
            "Requirement already satisfied: urllib3!=1.25.0,!=1.25.1,<1.26,>=1.21.1 in /usr/local/lib/python3.7/dist-packages (from requests->transformers) (1.24.3)\n",
            "Requirement already satisfied: certifi>=2017.4.17 in /usr/local/lib/python3.7/dist-packages (from requests->transformers) (2022.6.15)\n",
            "Requirement already satisfied: idna<3,>=2.5 in /usr/local/lib/python3.7/dist-packages (from requests->transformers) (2.10)\n",
            "Requirement already satisfied: chardet<4,>=3.0.2 in /usr/local/lib/python3.7/dist-packages (from requests->transformers) (3.0.4)\n"
          ]
        }
      ],
      "source": [
        "!pip install transformers"
      ]
    },
    {
      "cell_type": "code",
      "execution_count": null,
      "metadata": {
        "id": "TJxZYGb7YV5J"
      },
      "outputs": [],
      "source": [
        "from multiprocessing import Pool\n",
        "from tqdm import tqdm_notebook as tqdm"
      ]
    },
    {
      "cell_type": "code",
      "execution_count": null,
      "metadata": {
        "colab": {
          "base_uri": "https://localhost:8080/"
        },
        "id": "VJ9ghMqqLYgT",
        "outputId": "0db344ac-bf2c-45c1-fda0-be93e2077e6d"
      },
      "outputs": [
        {
          "output_type": "stream",
          "name": "stdout",
          "text": [
            "Drive already mounted at /content/drive; to attempt to forcibly remount, call drive.mount(\"/content/drive\", force_remount=True).\n"
          ]
        }
      ],
      "source": [
        "from google.colab import drive\n",
        "drive.mount('/content/drive')"
      ]
    },
    {
      "cell_type": "code",
      "execution_count": null,
      "metadata": {
        "colab": {
          "base_uri": "https://localhost:8080/"
        },
        "id": "oaICM9qUjAlI",
        "outputId": "a5574f7b-da10-4718-eca9-c8f29b72af71"
      },
      "outputs": [
        {
          "output_type": "stream",
          "name": "stderr",
          "text": [
            "[nltk_data] Downloading package stopwords to /root/nltk_data...\n",
            "[nltk_data]   Package stopwords is already up-to-date!\n"
          ]
        }
      ],
      "source": [
        "import string\n",
        "import nltk\n",
        "nltk.download('stopwords')\n",
        "import annoy\n",
        "import numpy as np\n",
        "import tensorflow as tf\n",
        "from pymorphy2 import MorphAnalyzer\n",
        "from stop_words import get_stop_words\n",
        "from tqdm import tqdm_notebook\n",
        "from transformers import TFAutoModel, AutoTokenizer\n",
        "import re"
      ]
    },
    {
      "cell_type": "code",
      "execution_count": null,
      "metadata": {
        "id": "w8anNr6zqt16"
      },
      "outputs": [],
      "source": [
        "morpher = MorphAnalyzer()\n",
        "sw = set(get_stop_words(\"ru\") + nltk.corpus.stopwords.words('russian'))\n",
        "exclude = set(string.punctuation)"
      ]
    },
    {
      "cell_type": "code",
      "execution_count": null,
      "metadata": {
        "id": "yjo-HG_JovGL"
      },
      "outputs": [],
      "source": [
        "def preprocess_txt(line):\n",
        "    line=re.sub(re.compile(r'[^\\w\\s]'), \" \", line)\n",
        "    line=re.sub(re.compile(r'[^a-zA-Zа-яА-Я0-9]'), \" \", line)\n",
        "    spls = \"\".join(i for i in line.strip() if i not in exclude).split()\n",
        "    spls = [morpher.parse(i.lower())[0].normal_form for i in spls]\n",
        "    spls = [i for i in spls if i not in sw and i != \"\"]\n",
        "    #spls = [i for i in spls if i != \"\"]\n",
        "    return ' '.join(spls)"
      ]
    },
    {
      "cell_type": "code",
      "execution_count": null,
      "metadata": {
        "colab": {
          "base_uri": "https://localhost:8080/",
          "height": 101,
          "referenced_widgets": [
            "2ec7c9fa050d41caa915baacc3b03549",
            "1cb3eb33122049d783235156b4ba8ef9",
            "f208661ad161469b916661ef055a5086",
            "b4415a9d381d41b6b353d9d7ae21cbcd",
            "3755761e233d461aa0de1ad5a7c5a530",
            "6bdd3f4baed3415ea84c4dc7284c8fc8",
            "8173bf18ca234d7d86c50f44b6f17096",
            "e809782d20e640228cf493e33fc07198",
            "c5a8f6b89e764f1e969047bc68fe204b",
            "d9091e41af7447f0a43ddc0f2641e0ce",
            "68967b6faf9e49e9be49acebe0354fa7"
          ]
        },
        "id": "lRYR39YBmDZH",
        "outputId": "b5159050-57c0-4794-b4fb-a38d8e693d59"
      },
      "outputs": [
        {
          "output_type": "stream",
          "name": "stderr",
          "text": [
            "/usr/local/lib/python3.7/dist-packages/ipykernel_launcher.py:5: TqdmDeprecationWarning: This function will be removed in tqdm==5.0.0\n",
            "Please use `tqdm.notebook.tqdm` instead of `tqdm.tqdm_notebook`\n",
            "  \"\"\"\n"
          ]
        },
        {
          "output_type": "display_data",
          "data": {
            "text/plain": [
              "0it [00:00, ?it/s]"
            ],
            "application/vnd.jupyter.widget-view+json": {
              "version_major": 2,
              "version_minor": 0,
              "model_id": "2ec7c9fa050d41caa915baacc3b03549"
            }
          },
          "metadata": {}
        }
      ],
      "source": [
        "question = []\n",
        "answer = []\n",
        "errors = []\n",
        "with open(\"/content/drive/MyDrive/Colab Notebooks/CHAT_BOT/planeta_qwestions.txt\", \"r\") as f:\n",
        "    for line in tqdm_notebook(f):\n",
        "        spls = line.split(\"\\t\")\n",
        "        if len(spls)==1:\n",
        "            errors.append(spls)\n",
        "            continue\n",
        "        question.append(spls[0].strip())\n",
        "        answer.append(spls[1].strip())"
      ]
    },
    {
      "cell_type": "code",
      "execution_count": null,
      "metadata": {
        "id": "0DZfjCaQmDdv"
      },
      "outputs": [],
      "source": [
        "#errors"
      ]
    },
    {
      "cell_type": "code",
      "execution_count": null,
      "metadata": {
        "id": "JM-UqKyRjlZI"
      },
      "outputs": [],
      "source": [
        "planeta_qwestions = pd.DataFrame({'qwest': question, 'ans': answer})"
      ]
    },
    {
      "cell_type": "code",
      "execution_count": null,
      "metadata": {
        "colab": {
          "base_uri": "https://localhost:8080/",
          "height": 424
        },
        "id": "sr0qqFINjldx",
        "outputId": "95adc725-0928-4d44-fb47-372e35914082"
      },
      "outputs": [
        {
          "output_type": "execute_result",
          "data": {
            "text/plain": [
              "                           qwest  \\\n",
              "0              Вы продаете дачу?   \n",
              "1           Вы продаете участок?   \n",
              "2           Вы продаете коттедж?   \n",
              "3                 Сколько стоит?   \n",
              "4               Какая стоимость?   \n",
              "..                           ...   \n",
              "360       Председатель правления   \n",
              "361              Члены правления   \n",
              "362       Режим работы правления   \n",
              "363  Расписание работы правления   \n",
              "364                Карта поселка   \n",
              "\n",
              "                                                   ans  \n",
              "0                                          да, продаю.  \n",
              "1                                          да, продаю.  \n",
              "2                                          да, продаю.  \n",
              "3                                            1 тугрик.  \n",
              "4                                            1 тугрик.  \n",
              "..                                                 ...  \n",
              "360                       Рoмaнoв Рoмaн Алeкcaндрoвич.  \n",
              "361  Виниченко Иван Михайлович; Маркелов Андрей Вла...  \n",
              "362  Правление собирается каждую субботу с 10 до 14...  \n",
              "363  Правление собирается каждую субботу с 10 до 14...  \n",
              "364                 http://мояпланета.рф/karta-poselka  \n",
              "\n",
              "[365 rows x 2 columns]"
            ],
            "text/html": [
              "\n",
              "  <div id=\"df-3e01692a-c575-4ddd-b1cc-9618deaa7d0d\">\n",
              "    <div class=\"colab-df-container\">\n",
              "      <div>\n",
              "<style scoped>\n",
              "    .dataframe tbody tr th:only-of-type {\n",
              "        vertical-align: middle;\n",
              "    }\n",
              "\n",
              "    .dataframe tbody tr th {\n",
              "        vertical-align: top;\n",
              "    }\n",
              "\n",
              "    .dataframe thead th {\n",
              "        text-align: right;\n",
              "    }\n",
              "</style>\n",
              "<table border=\"1\" class=\"dataframe\">\n",
              "  <thead>\n",
              "    <tr style=\"text-align: right;\">\n",
              "      <th></th>\n",
              "      <th>qwest</th>\n",
              "      <th>ans</th>\n",
              "    </tr>\n",
              "  </thead>\n",
              "  <tbody>\n",
              "    <tr>\n",
              "      <th>0</th>\n",
              "      <td>Вы продаете дачу?</td>\n",
              "      <td>да, продаю.</td>\n",
              "    </tr>\n",
              "    <tr>\n",
              "      <th>1</th>\n",
              "      <td>Вы продаете участок?</td>\n",
              "      <td>да, продаю.</td>\n",
              "    </tr>\n",
              "    <tr>\n",
              "      <th>2</th>\n",
              "      <td>Вы продаете коттедж?</td>\n",
              "      <td>да, продаю.</td>\n",
              "    </tr>\n",
              "    <tr>\n",
              "      <th>3</th>\n",
              "      <td>Сколько стоит?</td>\n",
              "      <td>1 тугрик.</td>\n",
              "    </tr>\n",
              "    <tr>\n",
              "      <th>4</th>\n",
              "      <td>Какая стоимость?</td>\n",
              "      <td>1 тугрик.</td>\n",
              "    </tr>\n",
              "    <tr>\n",
              "      <th>...</th>\n",
              "      <td>...</td>\n",
              "      <td>...</td>\n",
              "    </tr>\n",
              "    <tr>\n",
              "      <th>360</th>\n",
              "      <td>Председатель правления</td>\n",
              "      <td>Рoмaнoв Рoмaн Алeкcaндрoвич.</td>\n",
              "    </tr>\n",
              "    <tr>\n",
              "      <th>361</th>\n",
              "      <td>Члены правления</td>\n",
              "      <td>Виниченко Иван Михайлович; Маркелов Андрей Вла...</td>\n",
              "    </tr>\n",
              "    <tr>\n",
              "      <th>362</th>\n",
              "      <td>Режим работы правления</td>\n",
              "      <td>Правление собирается каждую субботу с 10 до 14...</td>\n",
              "    </tr>\n",
              "    <tr>\n",
              "      <th>363</th>\n",
              "      <td>Расписание работы правления</td>\n",
              "      <td>Правление собирается каждую субботу с 10 до 14...</td>\n",
              "    </tr>\n",
              "    <tr>\n",
              "      <th>364</th>\n",
              "      <td>Карта поселка</td>\n",
              "      <td>http://мояпланета.рф/karta-poselka</td>\n",
              "    </tr>\n",
              "  </tbody>\n",
              "</table>\n",
              "<p>365 rows × 2 columns</p>\n",
              "</div>\n",
              "      <button class=\"colab-df-convert\" onclick=\"convertToInteractive('df-3e01692a-c575-4ddd-b1cc-9618deaa7d0d')\"\n",
              "              title=\"Convert this dataframe to an interactive table.\"\n",
              "              style=\"display:none;\">\n",
              "        \n",
              "  <svg xmlns=\"http://www.w3.org/2000/svg\" height=\"24px\"viewBox=\"0 0 24 24\"\n",
              "       width=\"24px\">\n",
              "    <path d=\"M0 0h24v24H0V0z\" fill=\"none\"/>\n",
              "    <path d=\"M18.56 5.44l.94 2.06.94-2.06 2.06-.94-2.06-.94-.94-2.06-.94 2.06-2.06.94zm-11 1L8.5 8.5l.94-2.06 2.06-.94-2.06-.94L8.5 2.5l-.94 2.06-2.06.94zm10 10l.94 2.06.94-2.06 2.06-.94-2.06-.94-.94-2.06-.94 2.06-2.06.94z\"/><path d=\"M17.41 7.96l-1.37-1.37c-.4-.4-.92-.59-1.43-.59-.52 0-1.04.2-1.43.59L10.3 9.45l-7.72 7.72c-.78.78-.78 2.05 0 2.83L4 21.41c.39.39.9.59 1.41.59.51 0 1.02-.2 1.41-.59l7.78-7.78 2.81-2.81c.8-.78.8-2.07 0-2.86zM5.41 20L4 18.59l7.72-7.72 1.47 1.35L5.41 20z\"/>\n",
              "  </svg>\n",
              "      </button>\n",
              "      \n",
              "  <style>\n",
              "    .colab-df-container {\n",
              "      display:flex;\n",
              "      flex-wrap:wrap;\n",
              "      gap: 12px;\n",
              "    }\n",
              "\n",
              "    .colab-df-convert {\n",
              "      background-color: #E8F0FE;\n",
              "      border: none;\n",
              "      border-radius: 50%;\n",
              "      cursor: pointer;\n",
              "      display: none;\n",
              "      fill: #1967D2;\n",
              "      height: 32px;\n",
              "      padding: 0 0 0 0;\n",
              "      width: 32px;\n",
              "    }\n",
              "\n",
              "    .colab-df-convert:hover {\n",
              "      background-color: #E2EBFA;\n",
              "      box-shadow: 0px 1px 2px rgba(60, 64, 67, 0.3), 0px 1px 3px 1px rgba(60, 64, 67, 0.15);\n",
              "      fill: #174EA6;\n",
              "    }\n",
              "\n",
              "    [theme=dark] .colab-df-convert {\n",
              "      background-color: #3B4455;\n",
              "      fill: #D2E3FC;\n",
              "    }\n",
              "\n",
              "    [theme=dark] .colab-df-convert:hover {\n",
              "      background-color: #434B5C;\n",
              "      box-shadow: 0px 1px 3px 1px rgba(0, 0, 0, 0.15);\n",
              "      filter: drop-shadow(0px 1px 2px rgba(0, 0, 0, 0.3));\n",
              "      fill: #FFFFFF;\n",
              "    }\n",
              "  </style>\n",
              "\n",
              "      <script>\n",
              "        const buttonEl =\n",
              "          document.querySelector('#df-3e01692a-c575-4ddd-b1cc-9618deaa7d0d button.colab-df-convert');\n",
              "        buttonEl.style.display =\n",
              "          google.colab.kernel.accessAllowed ? 'block' : 'none';\n",
              "\n",
              "        async function convertToInteractive(key) {\n",
              "          const element = document.querySelector('#df-3e01692a-c575-4ddd-b1cc-9618deaa7d0d');\n",
              "          const dataTable =\n",
              "            await google.colab.kernel.invokeFunction('convertToInteractive',\n",
              "                                                     [key], {});\n",
              "          if (!dataTable) return;\n",
              "\n",
              "          const docLinkHtml = 'Like what you see? Visit the ' +\n",
              "            '<a target=\"_blank\" href=https://colab.research.google.com/notebooks/data_table.ipynb>data table notebook</a>'\n",
              "            + ' to learn more about interactive tables.';\n",
              "          element.innerHTML = '';\n",
              "          dataTable['output_type'] = 'display_data';\n",
              "          await google.colab.output.renderOutput(dataTable, element);\n",
              "          const docLink = document.createElement('div');\n",
              "          docLink.innerHTML = docLinkHtml;\n",
              "          element.appendChild(docLink);\n",
              "        }\n",
              "      </script>\n",
              "    </div>\n",
              "  </div>\n",
              "  "
            ]
          },
          "metadata": {},
          "execution_count": 14
        }
      ],
      "source": [
        "planeta_qwestions"
      ]
    },
    {
      "cell_type": "code",
      "execution_count": null,
      "metadata": {
        "colab": {
          "base_uri": "https://localhost:8080/",
          "height": 136,
          "referenced_widgets": [
            "d8cb9084782845c5a9f21017c9251c92",
            "ea49075f70974d2d93383c9d4b8e1fbb",
            "e76f07cd22b84ea5af3f31e23e2b0833",
            "d84d0ebb03764b06995c7f9d56f3fc67",
            "f4eb7e6d2aa442688c395bbdb7716119",
            "f0b3fc0d8ddc47bd83900e0d0b38d325",
            "e4deeced18cb4d2987e9cd9486df020d",
            "a98b77b4d9014b018d2845ebc2ca92af",
            "97836cf2eb2c4bae95ec375ab9374ff2",
            "9598ce1530c644a0ac142b11e8171453",
            "efc99e26fcf14436b81e3d0ac63bab2f"
          ]
        },
        "id": "7Ptk88QbaMgp",
        "outputId": "4fc6bdf1-c9d7-4cd8-b337-046431053a19"
      },
      "outputs": [
        {
          "output_type": "stream",
          "name": "stderr",
          "text": [
            "/usr/local/lib/python3.7/dist-packages/ipykernel_launcher.py:3: TqdmDeprecationWarning: This function will be removed in tqdm==5.0.0\n",
            "Please use `tqdm.notebook.tqdm` instead of `tqdm.tqdm_notebook`\n",
            "  This is separate from the ipykernel package so we can avoid doing imports until\n"
          ]
        },
        {
          "output_type": "display_data",
          "data": {
            "text/plain": [
              "0it [00:00, ?it/s]"
            ],
            "application/vnd.jupyter.widget-view+json": {
              "version_major": 2,
              "version_minor": 0,
              "model_id": "d8cb9084782845c5a9f21017c9251c92"
            }
          },
          "metadata": {}
        },
        {
          "output_type": "stream",
          "name": "stdout",
          "text": [
            "CPU times: user 109 ms, sys: 54 ms, total: 163 ms\n",
            "Wall time: 709 ms\n"
          ]
        }
      ],
      "source": [
        "%%time\n",
        "\n",
        "with Pool(3) as p:\n",
        "    qwest = list(tqdm(p.imap(preprocess_txt, planeta_qwestions['qwest'])))"
      ]
    },
    {
      "cell_type": "code",
      "execution_count": null,
      "metadata": {
        "id": "Wc6Pr7FelCXD"
      },
      "outputs": [],
      "source": [
        "planeta_qwestions['morpher_qwest'] = qwest"
      ]
    },
    {
      "cell_type": "code",
      "execution_count": null,
      "metadata": {
        "colab": {
          "base_uri": "https://localhost:8080/",
          "height": 206
        },
        "id": "4BSgUA2tlCce",
        "outputId": "da0a95f8-82f5-497d-a9e0-1bfbf2f9381c"
      },
      "outputs": [
        {
          "output_type": "execute_result",
          "data": {
            "text/plain": [
              "                  qwest          ans      morpher_qwest\n",
              "0     Вы продаете дачу?  да, продаю.     продавать дача\n",
              "1  Вы продаете участок?  да, продаю.  продавать участок\n",
              "2  Вы продаете коттедж?  да, продаю.  продавать коттедж\n",
              "3        Сколько стоит?    1 тугрик.             стоить\n",
              "4      Какая стоимость?    1 тугрик.          стоимость"
            ],
            "text/html": [
              "\n",
              "  <div id=\"df-b7cbea23-6747-43b8-a0fe-4e7cb18531b9\">\n",
              "    <div class=\"colab-df-container\">\n",
              "      <div>\n",
              "<style scoped>\n",
              "    .dataframe tbody tr th:only-of-type {\n",
              "        vertical-align: middle;\n",
              "    }\n",
              "\n",
              "    .dataframe tbody tr th {\n",
              "        vertical-align: top;\n",
              "    }\n",
              "\n",
              "    .dataframe thead th {\n",
              "        text-align: right;\n",
              "    }\n",
              "</style>\n",
              "<table border=\"1\" class=\"dataframe\">\n",
              "  <thead>\n",
              "    <tr style=\"text-align: right;\">\n",
              "      <th></th>\n",
              "      <th>qwest</th>\n",
              "      <th>ans</th>\n",
              "      <th>morpher_qwest</th>\n",
              "    </tr>\n",
              "  </thead>\n",
              "  <tbody>\n",
              "    <tr>\n",
              "      <th>0</th>\n",
              "      <td>Вы продаете дачу?</td>\n",
              "      <td>да, продаю.</td>\n",
              "      <td>продавать дача</td>\n",
              "    </tr>\n",
              "    <tr>\n",
              "      <th>1</th>\n",
              "      <td>Вы продаете участок?</td>\n",
              "      <td>да, продаю.</td>\n",
              "      <td>продавать участок</td>\n",
              "    </tr>\n",
              "    <tr>\n",
              "      <th>2</th>\n",
              "      <td>Вы продаете коттедж?</td>\n",
              "      <td>да, продаю.</td>\n",
              "      <td>продавать коттедж</td>\n",
              "    </tr>\n",
              "    <tr>\n",
              "      <th>3</th>\n",
              "      <td>Сколько стоит?</td>\n",
              "      <td>1 тугрик.</td>\n",
              "      <td>стоить</td>\n",
              "    </tr>\n",
              "    <tr>\n",
              "      <th>4</th>\n",
              "      <td>Какая стоимость?</td>\n",
              "      <td>1 тугрик.</td>\n",
              "      <td>стоимость</td>\n",
              "    </tr>\n",
              "  </tbody>\n",
              "</table>\n",
              "</div>\n",
              "      <button class=\"colab-df-convert\" onclick=\"convertToInteractive('df-b7cbea23-6747-43b8-a0fe-4e7cb18531b9')\"\n",
              "              title=\"Convert this dataframe to an interactive table.\"\n",
              "              style=\"display:none;\">\n",
              "        \n",
              "  <svg xmlns=\"http://www.w3.org/2000/svg\" height=\"24px\"viewBox=\"0 0 24 24\"\n",
              "       width=\"24px\">\n",
              "    <path d=\"M0 0h24v24H0V0z\" fill=\"none\"/>\n",
              "    <path d=\"M18.56 5.44l.94 2.06.94-2.06 2.06-.94-2.06-.94-.94-2.06-.94 2.06-2.06.94zm-11 1L8.5 8.5l.94-2.06 2.06-.94-2.06-.94L8.5 2.5l-.94 2.06-2.06.94zm10 10l.94 2.06.94-2.06 2.06-.94-2.06-.94-.94-2.06-.94 2.06-2.06.94z\"/><path d=\"M17.41 7.96l-1.37-1.37c-.4-.4-.92-.59-1.43-.59-.52 0-1.04.2-1.43.59L10.3 9.45l-7.72 7.72c-.78.78-.78 2.05 0 2.83L4 21.41c.39.39.9.59 1.41.59.51 0 1.02-.2 1.41-.59l7.78-7.78 2.81-2.81c.8-.78.8-2.07 0-2.86zM5.41 20L4 18.59l7.72-7.72 1.47 1.35L5.41 20z\"/>\n",
              "  </svg>\n",
              "      </button>\n",
              "      \n",
              "  <style>\n",
              "    .colab-df-container {\n",
              "      display:flex;\n",
              "      flex-wrap:wrap;\n",
              "      gap: 12px;\n",
              "    }\n",
              "\n",
              "    .colab-df-convert {\n",
              "      background-color: #E8F0FE;\n",
              "      border: none;\n",
              "      border-radius: 50%;\n",
              "      cursor: pointer;\n",
              "      display: none;\n",
              "      fill: #1967D2;\n",
              "      height: 32px;\n",
              "      padding: 0 0 0 0;\n",
              "      width: 32px;\n",
              "    }\n",
              "\n",
              "    .colab-df-convert:hover {\n",
              "      background-color: #E2EBFA;\n",
              "      box-shadow: 0px 1px 2px rgba(60, 64, 67, 0.3), 0px 1px 3px 1px rgba(60, 64, 67, 0.15);\n",
              "      fill: #174EA6;\n",
              "    }\n",
              "\n",
              "    [theme=dark] .colab-df-convert {\n",
              "      background-color: #3B4455;\n",
              "      fill: #D2E3FC;\n",
              "    }\n",
              "\n",
              "    [theme=dark] .colab-df-convert:hover {\n",
              "      background-color: #434B5C;\n",
              "      box-shadow: 0px 1px 3px 1px rgba(0, 0, 0, 0.15);\n",
              "      filter: drop-shadow(0px 1px 2px rgba(0, 0, 0, 0.3));\n",
              "      fill: #FFFFFF;\n",
              "    }\n",
              "  </style>\n",
              "\n",
              "      <script>\n",
              "        const buttonEl =\n",
              "          document.querySelector('#df-b7cbea23-6747-43b8-a0fe-4e7cb18531b9 button.colab-df-convert');\n",
              "        buttonEl.style.display =\n",
              "          google.colab.kernel.accessAllowed ? 'block' : 'none';\n",
              "\n",
              "        async function convertToInteractive(key) {\n",
              "          const element = document.querySelector('#df-b7cbea23-6747-43b8-a0fe-4e7cb18531b9');\n",
              "          const dataTable =\n",
              "            await google.colab.kernel.invokeFunction('convertToInteractive',\n",
              "                                                     [key], {});\n",
              "          if (!dataTable) return;\n",
              "\n",
              "          const docLinkHtml = 'Like what you see? Visit the ' +\n",
              "            '<a target=\"_blank\" href=https://colab.research.google.com/notebooks/data_table.ipynb>data table notebook</a>'\n",
              "            + ' to learn more about interactive tables.';\n",
              "          element.innerHTML = '';\n",
              "          dataTable['output_type'] = 'display_data';\n",
              "          await google.colab.output.renderOutput(dataTable, element);\n",
              "          const docLink = document.createElement('div');\n",
              "          docLink.innerHTML = docLinkHtml;\n",
              "          element.appendChild(docLink);\n",
              "        }\n",
              "      </script>\n",
              "    </div>\n",
              "  </div>\n",
              "  "
            ]
          },
          "metadata": {},
          "execution_count": 17
        }
      ],
      "source": [
        "planeta_qwestions.head()"
      ]
    },
    {
      "cell_type": "code",
      "execution_count": null,
      "metadata": {
        "id": "UBhA05rXNgJb"
      },
      "outputs": [],
      "source": [
        "morpher_qwest_tokens = []\n",
        "for i in planeta_qwestions.morpher_qwest:\n",
        "    tokens = i.split()\n",
        "    if len(tokens) < 2:\n",
        "        continue\n",
        "    morpher_qwest_tokens.extend(tokens)"
      ]
    },
    {
      "cell_type": "code",
      "execution_count": null,
      "metadata": {
        "colab": {
          "base_uri": "https://localhost:8080/",
          "height": 424
        },
        "id": "CU4VLVfYJWe5",
        "outputId": "9a812f00-51b8-469e-efe5-96016dda7603"
      },
      "outputs": [
        {
          "output_type": "execute_result",
          "data": {
            "text/plain": [
              "                           qwest  \\\n",
              "0              Вы продаете дачу?   \n",
              "1           Вы продаете участок?   \n",
              "2           Вы продаете коттедж?   \n",
              "3                 Сколько стоит?   \n",
              "4               Какая стоимость?   \n",
              "..                           ...   \n",
              "360       Председатель правления   \n",
              "361              Члены правления   \n",
              "362       Режим работы правления   \n",
              "363  Расписание работы правления   \n",
              "364                Карта поселка   \n",
              "\n",
              "                                                   ans  \\\n",
              "0                                          да, продаю.   \n",
              "1                                          да, продаю.   \n",
              "2                                          да, продаю.   \n",
              "3                                            1 тугрик.   \n",
              "4                                            1 тугрик.   \n",
              "..                                                 ...   \n",
              "360                       Рoмaнoв Рoмaн Алeкcaндрoвич.   \n",
              "361  Виниченко Иван Михайлович; Маркелов Андрей Вла...   \n",
              "362  Правление собирается каждую субботу с 10 до 14...   \n",
              "363  Правление собирается каждую субботу с 10 до 14...   \n",
              "364                 http://мояпланета.рф/karta-poselka   \n",
              "\n",
              "                   morpher_qwest  \n",
              "0                 продавать дача  \n",
              "1              продавать участок  \n",
              "2              продавать коттедж  \n",
              "3                         стоить  \n",
              "4                      стоимость  \n",
              "..                           ...  \n",
              "360       председатель правление  \n",
              "361               член правление  \n",
              "362       режим работа правление  \n",
              "363  расписание работа правление  \n",
              "364                карта посёлок  \n",
              "\n",
              "[365 rows x 3 columns]"
            ],
            "text/html": [
              "\n",
              "  <div id=\"df-5099ed39-0580-4f18-bd53-2ce77c5b3aa2\">\n",
              "    <div class=\"colab-df-container\">\n",
              "      <div>\n",
              "<style scoped>\n",
              "    .dataframe tbody tr th:only-of-type {\n",
              "        vertical-align: middle;\n",
              "    }\n",
              "\n",
              "    .dataframe tbody tr th {\n",
              "        vertical-align: top;\n",
              "    }\n",
              "\n",
              "    .dataframe thead th {\n",
              "        text-align: right;\n",
              "    }\n",
              "</style>\n",
              "<table border=\"1\" class=\"dataframe\">\n",
              "  <thead>\n",
              "    <tr style=\"text-align: right;\">\n",
              "      <th></th>\n",
              "      <th>qwest</th>\n",
              "      <th>ans</th>\n",
              "      <th>morpher_qwest</th>\n",
              "    </tr>\n",
              "  </thead>\n",
              "  <tbody>\n",
              "    <tr>\n",
              "      <th>0</th>\n",
              "      <td>Вы продаете дачу?</td>\n",
              "      <td>да, продаю.</td>\n",
              "      <td>продавать дача</td>\n",
              "    </tr>\n",
              "    <tr>\n",
              "      <th>1</th>\n",
              "      <td>Вы продаете участок?</td>\n",
              "      <td>да, продаю.</td>\n",
              "      <td>продавать участок</td>\n",
              "    </tr>\n",
              "    <tr>\n",
              "      <th>2</th>\n",
              "      <td>Вы продаете коттедж?</td>\n",
              "      <td>да, продаю.</td>\n",
              "      <td>продавать коттедж</td>\n",
              "    </tr>\n",
              "    <tr>\n",
              "      <th>3</th>\n",
              "      <td>Сколько стоит?</td>\n",
              "      <td>1 тугрик.</td>\n",
              "      <td>стоить</td>\n",
              "    </tr>\n",
              "    <tr>\n",
              "      <th>4</th>\n",
              "      <td>Какая стоимость?</td>\n",
              "      <td>1 тугрик.</td>\n",
              "      <td>стоимость</td>\n",
              "    </tr>\n",
              "    <tr>\n",
              "      <th>...</th>\n",
              "      <td>...</td>\n",
              "      <td>...</td>\n",
              "      <td>...</td>\n",
              "    </tr>\n",
              "    <tr>\n",
              "      <th>360</th>\n",
              "      <td>Председатель правления</td>\n",
              "      <td>Рoмaнoв Рoмaн Алeкcaндрoвич.</td>\n",
              "      <td>председатель правление</td>\n",
              "    </tr>\n",
              "    <tr>\n",
              "      <th>361</th>\n",
              "      <td>Члены правления</td>\n",
              "      <td>Виниченко Иван Михайлович; Маркелов Андрей Вла...</td>\n",
              "      <td>член правление</td>\n",
              "    </tr>\n",
              "    <tr>\n",
              "      <th>362</th>\n",
              "      <td>Режим работы правления</td>\n",
              "      <td>Правление собирается каждую субботу с 10 до 14...</td>\n",
              "      <td>режим работа правление</td>\n",
              "    </tr>\n",
              "    <tr>\n",
              "      <th>363</th>\n",
              "      <td>Расписание работы правления</td>\n",
              "      <td>Правление собирается каждую субботу с 10 до 14...</td>\n",
              "      <td>расписание работа правление</td>\n",
              "    </tr>\n",
              "    <tr>\n",
              "      <th>364</th>\n",
              "      <td>Карта поселка</td>\n",
              "      <td>http://мояпланета.рф/karta-poselka</td>\n",
              "      <td>карта посёлок</td>\n",
              "    </tr>\n",
              "  </tbody>\n",
              "</table>\n",
              "<p>365 rows × 3 columns</p>\n",
              "</div>\n",
              "      <button class=\"colab-df-convert\" onclick=\"convertToInteractive('df-5099ed39-0580-4f18-bd53-2ce77c5b3aa2')\"\n",
              "              title=\"Convert this dataframe to an interactive table.\"\n",
              "              style=\"display:none;\">\n",
              "        \n",
              "  <svg xmlns=\"http://www.w3.org/2000/svg\" height=\"24px\"viewBox=\"0 0 24 24\"\n",
              "       width=\"24px\">\n",
              "    <path d=\"M0 0h24v24H0V0z\" fill=\"none\"/>\n",
              "    <path d=\"M18.56 5.44l.94 2.06.94-2.06 2.06-.94-2.06-.94-.94-2.06-.94 2.06-2.06.94zm-11 1L8.5 8.5l.94-2.06 2.06-.94-2.06-.94L8.5 2.5l-.94 2.06-2.06.94zm10 10l.94 2.06.94-2.06 2.06-.94-2.06-.94-.94-2.06-.94 2.06-2.06.94z\"/><path d=\"M17.41 7.96l-1.37-1.37c-.4-.4-.92-.59-1.43-.59-.52 0-1.04.2-1.43.59L10.3 9.45l-7.72 7.72c-.78.78-.78 2.05 0 2.83L4 21.41c.39.39.9.59 1.41.59.51 0 1.02-.2 1.41-.59l7.78-7.78 2.81-2.81c.8-.78.8-2.07 0-2.86zM5.41 20L4 18.59l7.72-7.72 1.47 1.35L5.41 20z\"/>\n",
              "  </svg>\n",
              "      </button>\n",
              "      \n",
              "  <style>\n",
              "    .colab-df-container {\n",
              "      display:flex;\n",
              "      flex-wrap:wrap;\n",
              "      gap: 12px;\n",
              "    }\n",
              "\n",
              "    .colab-df-convert {\n",
              "      background-color: #E8F0FE;\n",
              "      border: none;\n",
              "      border-radius: 50%;\n",
              "      cursor: pointer;\n",
              "      display: none;\n",
              "      fill: #1967D2;\n",
              "      height: 32px;\n",
              "      padding: 0 0 0 0;\n",
              "      width: 32px;\n",
              "    }\n",
              "\n",
              "    .colab-df-convert:hover {\n",
              "      background-color: #E2EBFA;\n",
              "      box-shadow: 0px 1px 2px rgba(60, 64, 67, 0.3), 0px 1px 3px 1px rgba(60, 64, 67, 0.15);\n",
              "      fill: #174EA6;\n",
              "    }\n",
              "\n",
              "    [theme=dark] .colab-df-convert {\n",
              "      background-color: #3B4455;\n",
              "      fill: #D2E3FC;\n",
              "    }\n",
              "\n",
              "    [theme=dark] .colab-df-convert:hover {\n",
              "      background-color: #434B5C;\n",
              "      box-shadow: 0px 1px 3px 1px rgba(0, 0, 0, 0.15);\n",
              "      filter: drop-shadow(0px 1px 2px rgba(0, 0, 0, 0.3));\n",
              "      fill: #FFFFFF;\n",
              "    }\n",
              "  </style>\n",
              "\n",
              "      <script>\n",
              "        const buttonEl =\n",
              "          document.querySelector('#df-5099ed39-0580-4f18-bd53-2ce77c5b3aa2 button.colab-df-convert');\n",
              "        buttonEl.style.display =\n",
              "          google.colab.kernel.accessAllowed ? 'block' : 'none';\n",
              "\n",
              "        async function convertToInteractive(key) {\n",
              "          const element = document.querySelector('#df-5099ed39-0580-4f18-bd53-2ce77c5b3aa2');\n",
              "          const dataTable =\n",
              "            await google.colab.kernel.invokeFunction('convertToInteractive',\n",
              "                                                     [key], {});\n",
              "          if (!dataTable) return;\n",
              "\n",
              "          const docLinkHtml = 'Like what you see? Visit the ' +\n",
              "            '<a target=\"_blank\" href=https://colab.research.google.com/notebooks/data_table.ipynb>data table notebook</a>'\n",
              "            + ' to learn more about interactive tables.';\n",
              "          element.innerHTML = '';\n",
              "          dataTable['output_type'] = 'display_data';\n",
              "          await google.colab.output.renderOutput(dataTable, element);\n",
              "          const docLink = document.createElement('div');\n",
              "          docLink.innerHTML = docLinkHtml;\n",
              "          element.appendChild(docLink);\n",
              "        }\n",
              "      </script>\n",
              "    </div>\n",
              "  </div>\n",
              "  "
            ]
          },
          "metadata": {},
          "execution_count": 19
        }
      ],
      "source": [
        "planeta_qwestions"
      ]
    },
    {
      "cell_type": "code",
      "execution_count": null,
      "metadata": {
        "id": "VbE2thSeNgNs"
      },
      "outputs": [],
      "source": [
        "#morpher_qwest_tokens"
      ]
    },
    {
      "cell_type": "code",
      "execution_count": null,
      "metadata": {
        "colab": {
          "base_uri": "https://localhost:8080/"
        },
        "id": "NPnFfnb-sX3s",
        "outputId": "fde66c28-b9b9-4e8c-a7bf-8a75f6753b80"
      },
      "outputs": [
        {
          "output_type": "stream",
          "name": "stderr",
          "text": [
            "All model checkpoint layers were used when initializing TFBertModel.\n",
            "\n",
            "All the layers of TFBertModel were initialized from the model checkpoint at setu4993/LaBSE.\n",
            "If your task is similar to the task the model of the checkpoint was trained on, you can already use TFBertModel for predictions without further training.\n"
          ]
        }
      ],
      "source": [
        "bert = TFAutoModel.from_pretrained(\"setu4993/LaBSE\")\n",
        "tokenizer = AutoTokenizer.from_pretrained(\"setu4993/LaBSE\")"
      ]
    },
    {
      "cell_type": "code",
      "execution_count": null,
      "metadata": {
        "colab": {
          "base_uri": "https://localhost:8080/"
        },
        "id": "hOARSIdMsX75",
        "outputId": "394691de-6a2d-4d5e-ca03-f5086eeed547"
      },
      "outputs": [
        {
          "output_type": "stream",
          "name": "stdout",
          "text": [
            "CPU times: user 1min 45s, sys: 4.17 s, total: 1min 49s\n",
            "Wall time: 1min 33s\n"
          ]
        }
      ],
      "source": [
        "%%time\n",
        "\n",
        "bert_index = annoy.AnnoyIndex(768 , 'angular')\n",
        "\n",
        "index_map = {}\n",
        "counter = 0\n",
        "for i in range(len(planeta_qwestions)):\n",
        "    index_map[counter] = planeta_qwestions.loc[i]['ans']\n",
        "    question = planeta_qwestions.loc[i]['morpher_qwest']\n",
        "        \n",
        "    tok = tokenizer(question, return_token_type_ids=False, return_tensors='tf')\n",
        "    out_state = bert(**tok)[1].numpy()[0]\n",
        "    bert_index.add_item(counter, out_state)\n",
        "    counter += 1\n",
        "        \n",
        "\n",
        "bert_index.build(10)"
      ]
    },
    {
      "cell_type": "code",
      "execution_count": null,
      "metadata": {
        "colab": {
          "base_uri": "https://localhost:8080/"
        },
        "id": "H9VfPVHT6gfB",
        "outputId": "ddcd3e9c-90f2-41c0-d42d-94f6ed3d86f0"
      },
      "outputs": [
        {
          "output_type": "execute_result",
          "data": {
            "text/plain": [
              "True"
            ]
          },
          "metadata": {},
          "execution_count": 23
        }
      ],
      "source": [
        "bert_index.save('bert_index_planeta')"
      ]
    },
    {
      "cell_type": "code",
      "execution_count": null,
      "metadata": {
        "colab": {
          "base_uri": "https://localhost:8080/"
        },
        "id": "WMu0374H45ST",
        "outputId": "6d92eb9a-6893-4e7a-c891-f9ee15d9f1ba"
      },
      "outputs": [
        {
          "output_type": "execute_result",
          "data": {
            "text/plain": [
              "True"
            ]
          },
          "metadata": {},
          "execution_count": 24
        }
      ],
      "source": [
        "bert_index = annoy.AnnoyIndex(768, 'angular')\n",
        "bert_index.load('bert_index_planeta') "
      ]
    },
    {
      "cell_type": "code",
      "execution_count": null,
      "metadata": {
        "id": "rYB5YscL6gng"
      },
      "outputs": [],
      "source": [
        "def get_response(question, index, index_map):\n",
        "    question = preprocess_txt(question)\n",
        "    tok = tokenizer(question, return_token_type_ids=False, return_tensors='tf')\n",
        "    vector = bert(**tok)[1].numpy()[0]\n",
        "    answers = index.get_nns_by_vector(vector, 1, )\n",
        "    return [index_map[i] for i in answers]"
      ]
    },
    {
      "cell_type": "code",
      "execution_count": null,
      "metadata": {
        "colab": {
          "base_uri": "https://localhost:8080/"
        },
        "id": "nOU16iIz6gri",
        "outputId": "6c4613d3-9cac-40d3-e89c-c7d9962c6a8a"
      },
      "outputs": [
        {
          "output_type": "execute_result",
          "data": {
            "text/plain": [
              "['Дом-баня размером 6 х 8 м и пристройкой 2 х 8 м имеет теплоизолированный фундамент на автомобильных покрышках, заполненных глиной исключающих появление конденсата на нижней обвязке дома из лиственничного бруса 20 х 20 см. Высота потолка – 2,6 м. На 1,80 м от стен отмостка утеплена экструдированным пенополистиролом сверху обтянутым георешеткой, исключающим промерзание подпола в случае зимнего отопления. Летом грунт под домом в июле еще не прогрет, что создает прохладу на первом этаже дома. Каркасные стены дома сделаны из сосновой доски 15 х 4 см собранных на гвоздях и усиленных металлическими уголками на мебельных конфирматах (самый мощный мебельный крепеж). Снаружи по диагонали стены обшиты лиственничной имитацией бруса. Изнутри кедровой и лиственничной имитацией бруса. Внутри стен и на потолке эковата. Пол комнаты из лиственничной половой рейки. Пол парилки и мойки облицован керамогранитом. Банная печь «Сударушка». Топка чугунная, каменка из нержавейки, под облицовку кирпичом, с большим стеклянным экраном. В конструкции печи предусмотрена вентиляция подпольного пространства. Парилка обшита кедровой имитацией бруса. Имеется мойка, туалет, прихожая, тамбур и веранда. К строению пристроен железобетонный бассейн размером 3 х 3 х1.2 м. Окна дома изготовлены из профиля VEKA с 3-слойным стеклопакетом 32 мм. На мансарду ведет лестница. Строение имеет пристройку размером 2 х 8 м из стальной квадратной трубы и с теплоизолированными стенами обшитыми профлистом. Фундамент пристройки свайный. В доме есть электричество, водопровод, канализация, печное отопление. Газовая труба проходит в 4 метрах от дома. Крыша дома — Ондуллин.']"
            ]
          },
          "metadata": {},
          "execution_count": 26
        }
      ],
      "source": [
        "get_response(\"Из чего сделана баня?\", bert_index, index_map)"
      ]
    },
    {
      "cell_type": "code",
      "execution_count": null,
      "metadata": {
        "colab": {
          "base_uri": "https://localhost:8080/"
        },
        "id": "10wRKj0tjApy",
        "outputId": "9665790d-3fef-4d45-e228-5952ee268521"
      },
      "outputs": [
        {
          "output_type": "execute_result",
          "data": {
            "text/plain": [
              "['1 тугрик.']"
            ]
          },
          "metadata": {},
          "execution_count": 27
        }
      ],
      "source": [
        "get_response(\"сколько стоит?\", bert_index, index_map)"
      ]
    },
    {
      "cell_type": "code",
      "execution_count": null,
      "metadata": {
        "colab": {
          "base_uri": "https://localhost:8080/"
        },
        "id": "hNay9-Or0Kco",
        "outputId": "8bc76793-0e35-43b3-cbc7-641a65d88a95"
      },
      "outputs": [
        {
          "output_type": "execute_result",
          "data": {
            "text/plain": [
              "['Асфальтированная дорога до гаража. Со стороны Кировского района по Советскому шоссе первый светофор после развязки на Краснообск (6 км). Со стороны ОбьГэса третий светофор по Советскому шоссе за ОбьГэсом (3,5 км). Общественный транспорт по Советскому шоссе.']"
            ]
          },
          "metadata": {},
          "execution_count": 28
        }
      ],
      "source": [
        "get_response(\"как добраться?\", bert_index, index_map)"
      ]
    },
    {
      "cell_type": "code",
      "execution_count": null,
      "metadata": {
        "id": "6D9g5KIwNzMC",
        "colab": {
          "base_uri": "https://localhost:8080/"
        },
        "outputId": "6b40e815-69b2-410f-da8c-7f35eb05a340"
      },
      "outputs": [
        {
          "output_type": "execute_result",
          "data": {
            "text/plain": [
              "['Инфраструктура общества http://мояпланета.рф/infrastruktura']"
            ]
          },
          "metadata": {},
          "execution_count": 29
        }
      ],
      "source": [
        "get_response(\"какая в поселке инфраструктура?\", bert_index, index_map)"
      ]
    },
    {
      "cell_type": "code",
      "execution_count": null,
      "metadata": {
        "id": "5U3fKJ6EOc-a",
        "colab": {
          "base_uri": "https://localhost:8080/"
        },
        "outputId": "a0c28e9f-bde5-4c00-c875-e918d172f0fb"
      },
      "outputs": [
        {
          "output_type": "execute_result",
          "data": {
            "text/plain": [
              "['Координаты: 54.893991, 82.986713. Если ехать с Кировского района: по Советскому шоссе третий светофор, направо. Если ехать с Советского района: по Советскому шоссе: третий светофор налево. На шоссе имеется указатель.']"
            ]
          },
          "metadata": {},
          "execution_count": 30
        }
      ],
      "source": [
        "get_response(\"как проехать от академгородка?\", bert_index, index_map)"
      ]
    },
    {
      "cell_type": "code",
      "execution_count": null,
      "metadata": {
        "id": "4UenAkw1Oqfl",
        "colab": {
          "base_uri": "https://localhost:8080/"
        },
        "outputId": "132577ef-df88-4c05-e62e-1b04a56c62ef"
      },
      "outputs": [
        {
          "output_type": "execute_result",
          "data": {
            "text/plain": [
              "['Координаты: 54.893991, 82.986713. Если ехать с Кировского района: по Советскому шоссе третий светофор, направо. Если ехать с Советского района: по Советскому шоссе: третий светофор налево. На шоссе имеется указатель.']"
            ]
          },
          "metadata": {},
          "execution_count": 31
        }
      ],
      "source": [
        "get_response(\"как проехать от маркса?\", bert_index, index_map)"
      ]
    },
    {
      "cell_type": "code",
      "execution_count": null,
      "metadata": {
        "id": "FJLS245CTIam",
        "colab": {
          "base_uri": "https://localhost:8080/"
        },
        "outputId": "038bed0c-d289-42b7-b1aa-7eb3e11e659e"
      },
      "outputs": [
        {
          "output_type": "execute_result",
          "data": {
            "text/plain": [
              "['Участок 30 х 40 м, 12 соток. В собственности. Категория земель – для дачного строительства, устарела. Надо переводить в категорию для индивидуального жилищного строительства. Газ, вода, канализация, электричество 3 фазы, 15 кВт на участок. Асфальтовая дорога. Участок поднят относительно дороги. Половина участка ближе к дороге супесь. Дальняя половина на более чем метр черная земля, сверху чернозем. На участке есть гараж 6 х 8 м, дом-баня 8 х 8 м с мансардой и пристроенным бетонным бассейном, автостоянка.']"
            ]
          },
          "metadata": {},
          "execution_count": 32
        }
      ],
      "source": [
        "get_response(\"где находится участок?\", bert_index, index_map)"
      ]
    },
    {
      "cell_type": "code",
      "execution_count": null,
      "metadata": {
        "id": "zTtkJ4HkTIgi",
        "colab": {
          "base_uri": "https://localhost:8080/"
        },
        "outputId": "045debf0-e956-408e-b353-3c8982afe39e"
      },
      "outputs": [
        {
          "output_type": "execute_result",
          "data": {
            "text/plain": [
              "['Участок 30 х 40 м 12 соток.']"
            ]
          },
          "metadata": {},
          "execution_count": 33
        }
      ],
      "source": [
        "get_response(\"сколько лет участок в собственности?\", bert_index, index_map)"
      ]
    },
    {
      "cell_type": "code",
      "execution_count": null,
      "metadata": {
        "id": "aRRVx4fRTImO",
        "colab": {
          "base_uri": "https://localhost:8080/"
        },
        "outputId": "7ab5ca2d-512e-403e-9334-27eafb75d28c"
      },
      "outputs": [
        {
          "output_type": "execute_result",
          "data": {
            "text/plain": [
              "['В поселке пропускной режим, поэтомусамостоятельно до участка не добраться. Свяжитесь с риэлтором.']"
            ]
          },
          "metadata": {},
          "execution_count": 34
        }
      ],
      "source": [
        "get_response(\"как посмотреть участок?\", bert_index, index_map)"
      ]
    },
    {
      "cell_type": "code",
      "execution_count": null,
      "metadata": {
        "id": "QkwCTmzrUIFb",
        "colab": {
          "base_uri": "https://localhost:8080/"
        },
        "outputId": "f3beb2c0-b176-4c44-be81-35bbbaeace04"
      },
      "outputs": [
        {
          "output_type": "execute_result",
          "data": {
            "text/plain": [
              "['Свидетельство о регистрации, технические условия.']"
            ]
          },
          "metadata": {},
          "execution_count": 35
        }
      ],
      "source": [
        "get_response(\"какие документы на участок?\", bert_index, index_map)"
      ]
    },
    {
      "cell_type": "code",
      "execution_count": null,
      "metadata": {
        "id": "QU2ZnQX2UNLf"
      },
      "outputs": [],
      "source": [
        ""
      ]
    },
    {
      "cell_type": "code",
      "execution_count": null,
      "metadata": {
        "id": "39v1quLRUIbN"
      },
      "outputs": [],
      "source": [
        ""
      ]
    },
    {
      "cell_type": "code",
      "execution_count": null,
      "metadata": {
        "colab": {
          "base_uri": "https://localhost:8080/"
        },
        "id": "YrCHg2s3DDe9",
        "outputId": "7119989e-5721-4d21-afde-7795f92eeadd"
      },
      "outputs": [
        {
          "output_type": "execute_result",
          "data": {
            "text/plain": [
              "{0: 'да, продаю.',\n",
              " 1: 'да, продаю.',\n",
              " 2: 'да, продаю.',\n",
              " 3: '1 тугрик.',\n",
              " 4: '1 тугрик.',\n",
              " 5: '1 тугрик.',\n",
              " 6: '1 тугрик.',\n",
              " 7: 'В поселке пропускной режим, поэтомусамостоятельно до участка не добраться. Свяжитесь с риэлтором.',\n",
              " 8: 'В поселке пропускной режим, поэтомусамостоятельно до участка не добраться. Свяжитесь с риэлтором.',\n",
              " 9: 'В поселке пропускной режим, поэтомусамостоятельно до участка не добраться. Свяжитесь с риэлтором.',\n",
              " 10: 'В поселке пропускной режим, поэтомусамостоятельно до участка не добраться. Свяжитесь с риэлтором.',\n",
              " 11: 'В поселке пропускной режим, поэтомусамостоятельно до участка не добраться. Свяжитесь с риэлтором.',\n",
              " 12: 'В поселке пропускной режим, поэтомусамостоятельно до участка не добраться. Свяжитесь с риэлтором.',\n",
              " 13: 'Координаты: 54.893991, 82.986713. Если ехать с Кировского района: по Советскому шоссе третий светофор, направо. Если ехать с Советского района: по Советскому шоссе: третий светофор налево.На шоссе имеется указатель.',\n",
              " 14: 'Координаты: 54.893991, 82.986713. Если ехать с Кировского района: по Советскому шоссе третий светофор, направо. Если ехать с Советского района: по Советскому шоссе: третий светофор налево.На шоссе имеется указатель.',\n",
              " 15: 'Координаты: 54.893991, 82.986713. Если ехать с Кировского района: по Советскому шоссе третий светофор, направо. Если ехать с Советского района: по Советскому шоссе: третий светофор налево.На шоссе имеется указатель.',\n",
              " 16: 'ДНТ Планета - один из лучших коттеджных поселков Новосибирска вкотором, в отличие от рекламируемых поселков, все коммуникации принадлежат обществу а не коммерческим организациям. Есть все коммуникации, асфальтированные дороги, развитый общественный транспорт,интернет, связь. Вышка МТС находится в 200 метрах от поселка. На территории поселка построено искусственное озеро. Вся территория поселка огорожена. Имеется военизированная охрана, КПП, видеонаблюдение. Магазин, детская и спортивная площадки. Вокруг поселка посажены деревья.От шоссе поселок отделяет роща. Вокруг поселка построена дренажная система, за счет которой исключены подтопления поселка. Категория земель- для дачного строительства(устарела), сейчас активно земли переводятся в категорию для индивидуального строительства жилья.Есть обширная лесопарковая зона. На все земельные участки в поселке получены кадастровые паспорта и зарегистрировано право собственности. http://мояпланета.рф/o-poselke',\n",
              " 17: 'ДНТ Планета - один из лучших коттеджных поселков Новосибирска вкотором, в отличие от рекламируемых поселков, все коммуникации принадлежат обществу а не коммерческим организациям. Есть все коммуникации, асфальтированные дороги, развитый общественный транспорт,интернет, связь. Вышка МТС находится в 200 метрах от поселка. На территории поселка построено искусственное озеро. Вся территория поселка огорожена. Имеется военизированная охрана, КПП, видеонаблюдение. Магазин, детская и спортивная площадки. Вокруг поселка посажены деревья.От шоссе поселок отделяет роща. Вокруг поселка построена дренажная система, за счет которой исключены подтопления поселка. Категория земель- для дачного строительства(устарела), сейчас активно земли переводятся в категорию для индивидуального строительства жилья. Есть обширная лесопарковая зона. На все земельные участки в поселке получены кадастровые паспорта и зарегистрировано право собственности. http://мояпланета.рф/o-poselke',\n",
              " 18: 'ДНТ Планета - один из лучших коттеджных поселков Новосибирска вкотором, в отличие от рекламируемых поселков, все коммуникации принадлежат обществу а не коммерческим организациям. Есть все коммуникации, асфальтированные дороги, развитый общественный транспорт,интернет, связь. Вышка МТС находится в 200 метрах от поселка. На территории поселка построено искусственное озеро. Вся территория поселка огорожена. Имеется военизированная охрана, КПП, видеонаблюдение. Магазин, детская и спортивная площадки. Вокруг поселка посажены деревья.От шоссе поселок отделяет роща. Вокруг поселка построена дренажная система, за счет которой исключены подтопления поселка. Категория земель- для дачного строительства(устарела), сейчас активно земли переводятся в категорию для индивидуального строительства жилья. Есть обширная лесопарковая зона. На все земельные участки в поселке получены кадастровые паспорта и зарегистрировано право собственности. http://мояпланета.рф/o-poselke',\n",
              " 19: 'Поселок находится около Советского шоссе в 6 км от Кировского и в 3,5 км от Советского районов г. Новосибирска. Это самое современное 4-полосное шоссе в городе на котором не бывает пробок даже в пятницу вечером.В 2 км от Оби и в 3,8 км от Обского моря. От Советского шоссе его отделяет роща. Поселок огорожен, имеется охрана, видеонаблюдение и КПП. http://мояпланета.рф/kontakti',\n",
              " 20: 'Поселок находится около Советского шоссе в 6 км от Кировского и в 3,5 км от Советского районов г. Новосибирска. Это самое современное 4-полосное шоссе в городе на котором не бывает пробок даже в пятницу вечером.В 2 км от Оби и в 3,8 км от Обского моря. От Советского шоссе его отделяет роща. Поселок огорожен, имеется охрана, видеонаблюдение и КПП. http://мояпланета.рф/kontakti',\n",
              " 21: 'Поселок находится около Советского шоссе в 6 км от Кировского и в 3,5 км от Советского районов г. Новосибирска. Это самое современное 4-полосное шоссе в городе на котором не бывает пробок даже в пятницу вечером.В 2 км от Оби и в 3,8 км от Обского моря. От Советского шоссе его отделяет роща. Поселок огорожен, имеется охрана, видеонаблюдение и КПП. http://мояпланета.рф/kontakti',\n",
              " 22: 'Поселок находится около Советского шоссе в 6 км от Кировского и в 3,5 км от Советского районов г. Новосибирска. Это самое современное 4-полосное шоссе в городе на котором не бывает пробок даже в пятницу вечером.В 2 км от Оби и в 3,8 км от Обского моря. От Советского шоссе его отделяет роща. Поселок огорожен, имеется охрана, видеонаблюдение и КПП. http://мояпланета.рф/kontakti',\n",
              " 23: 'Поселок находится около Советского шоссе в 6 км от Кировского и в 3,5 км от Советского районов г. Новосибирска. Это самое современное 4-полосное шоссе в городе на котором не бывает пробок даже в пятницу вечером.В 2 км от Оби и в 3,8 км от Обского моря. От Советского шоссе его отделяет роща. Поселок огорожен, имеется охрана, видеонаблюдение и КПП. http://мояпланета.рф/kontakti',\n",
              " 24: 'Поселок находится около Советского шоссе в 6 км от Кировского и в 3,5 км от Советского районов г. Новосибирска. Это самое современное 4-полосное шоссе в городе на котором не бывает пробок даже в пятницу вечером.В 2 км от Оби и в 3,8 км от Обского моря. От Советского шоссе его отделяет роща. Поселок огорожен, имеется охрана, видеонаблюдение и КПП. http://мояпланета.рф/kontakti',\n",
              " 25: 'Телефоны на сайте http://мояпланета.рф/kontakti',\n",
              " 26: 'Телефоны на сайте http://мояпланета.рф/kontakti',\n",
              " 27: 'Телефоны на сайте http://мояпланета.рф/kontakti',\n",
              " 28: 'Телефоны на сайте http://мояпланета.рф/kontakti',\n",
              " 29: 'Телефоны на сайте http://мояпланета.рф/kontakti',\n",
              " 30: 'Реквизиты на сайте http://мояпланета.рф/kontakti',\n",
              " 31: 'Реквизиты на сайте http://мояпланета.рф/kontakti',\n",
              " 32: 'Реквизиты на сайте http://мояпланета.рф/kontakti',\n",
              " 33: 'Реквизиты на сайте http://мояпланета.рф/kontakti',\n",
              " 34: 'Реквизиты на сайте http://мояпланета.рф/kontakti',\n",
              " 35: 'Реквизиты на сайте http://мояпланета.рф/kontakti',\n",
              " 36: 'Реквизиты на сайте http://мояпланета.рф/kontakti',\n",
              " 37: 'Реквизиты на сайте http://мояпланета.рф/kontakti',\n",
              " 38: 'Поселок огражден забором. Первоначально был огражден профлистом, но сейчас забор меняется на 3D-панели.',\n",
              " 39: 'Участок 30 х 40 м, 12 соток. В собственности. Категория земель – для дачного строительства, устарела. Надо переводить в категорию для индивидуального жилищного строительства. Газ, вода, канализация, электричество 3 фазы, 15 кВт на участок. Асфальтовая дорога. Участок поднят относительно дороги. Половина участка ближе к дороге супесь. Дальняя половина на более чем метр черная земля, сверху чернозем. На участке есть гараж 6 х 8 м, дом-баня 8 х 8 м с мансардой и пристроенным бетонным бассейном, автостоянка.',\n",
              " 40: 'Участок 30 х 40 м, 12 соток. В собственности. Категория земель – для дачного строительства, устарела. Надо переводить в категорию для индивидуального жилищного строительства. Газ, вода, канализация, электричество 3 фазы, 15 кВт на участок. Асфальтовая дорога. Участок поднят относительно дороги. Половина участка ближе к дороге супесь. Дальняя половина на более чем метр черная земля, сверху чернозем. На участке есть гараж 6 х 8 м, дом-баня 8 х 8 м с мансардой и пристроенным бетонным бассейном, автостоянка.',\n",
              " 41: 'Участок расположен в начале поселка в 150 метрах от охраны. Не придется прыгать по лежачим полицейским и разьезжаться на узких, огороженных заборами с ограниченной видимостью перекрестках. Соседи все солидные люди. Вокруг очень красивые дома. Все общественные зоны в пешей доступности. Координаты:54.893551, 82.986411',\n",
              " 42: 'Участок расположен в начале поселка в 150 метрах от охраны. Не придется прыгать по лежачим полицейским и разьезжаться на узких, огороженных заборами с ограниченной видимостью перекрестках. Соседи все солидные люди. Вокруг очень красивые дома. Все общественные зоны в пешей доступности. Координаты:54.893551, 82.986411',\n",
              " 43: 'Участок расположен в начале поселка в 150 метрах от охраны. Не придется прыгать по лежачим полицейским и разьезжаться на узких, огороженных заборами с ограниченной видимостью перекрестках. Соседи все солидные люди. Вокруг очень красивые дома. Все общественные зоны в пешей доступности. Координаты:54.893551, 82.986411',\n",
              " 44: 'Поселок находится около Советского шоссе в 6 км от Кировского и в 3,5 км от Советского районов г. Новосибирска.',\n",
              " 45: 'Поселок находится около Советского шоссе в 6 км от Кировского и в 3,5 км от Советского районов г. Новосибирска.',\n",
              " 46: 'Поселок находится около Советского шоссе в 6 км от Кировского и в 3,5 км от Советского районов г. Новосибирска.',\n",
              " 47: 'Поселок находится около Советского шоссе в 6 км от Кировского и в 3,5 км от Советского районов г. Новосибирска.',\n",
              " 48: 'Поселок находится в 200 м от пос. Мичуринский, 1,3 км от Краснообска, 2 км от пос. Элитный',\n",
              " 49: 'Поселок находится в 200 м от пос. Мичуринский, 1,3 км отКраснообска, 2 км от пос. Элитный',\n",
              " 50: 'Отсыпанный участок(300 Камазов), все коммуникации, асфальт до гаража, гараж с подвалом, дом-баня с верандой, пристройкой и бетонным септиком на 20 куб. м, бассейн, техэтаж под дом, парковка.',\n",
              " 51: 'Все коммуникации, асфальт до гаража, гараж с подвалом, дом-баня с верандой, пристройкой и бетонным септиком на 20 куб. м, бассейн, техэтаж под дом, парковка.',\n",
              " 52: 'К участку подведено 15 кВт по отдельной поселковой линии от подстанции в Краснообске. Линия передана в аренду РЭС. На подстанции за нашей линией закреплено 2 фидера. По участку проложен подземный алюминиевый кабель. В доме разводка медная. Электрическая аппаратура Legrand. . В районе бани выполнен заземляющий контур из стального прутка 12 х 12мм на глубину 4 метра. Тариф сельский. http://мояпланета.рф/infrastruktura',\n",
              " 53: 'К участку подведено 15 кВт по отдельной поселковой линии от подстанции в Краснообске. Линия передана в аренду РЭС. На подстанции за нашей линией закреплено 2 фидера. По участку проложен подземный алюминиевый кабель. В доме разводка медная. Электрическая аппаратура Legrand. . В районе бани выполнен заземляющий контур из стального прутка 12 х 12мм на глубину 4 метра. Тариф сельский. http://мояпланета.рф/infrastruktura',\n",
              " 54: 'К участку подведено 15 кВт по отдельной поселковой линии от подстанции в Краснообске. Линия передана в аренду РЭС. На подстанции за нашей линией закреплено 2 фидера. По участку проложен подземный алюминиевый кабель. В доме разводка медная. Электрическая аппаратура Legrand. . В районе бани выполнен заземляющий контур из стального прутка 12 х 12мм на глубину 4 метра. Тариф сельский. http://мояпланета.рф/infrastruktura',\n",
              " 55: 'Вода в поселке городская.Водопровод передан на баланс Горводоканала. От колодца поступает в подвал гаража, из подвала проколы под техэтаж дома и в дом-баню. Тариф сельский. http://мояпланета.рф/infrastruktura',\n",
              " 56: 'Вода в поселке городская.Водопровод передан на баланс Горводоканала. От колодца поступает в подвал гаража, из подвала проколы под техэтаж дома и в дом-баню. Тариф сельский. http://мояпланета.рф/infrastruktura',\n",
              " 57: 'Вода в поселке городская.Водопровод передан на баланс Горводоканала. От колодца поступает в подвал гаража, из подвала проколы под техэтаж дома и в дом-баню. Тариф сельский. http://мояпланета.рф/infrastruktura',\n",
              " 58: 'Газоснабжение центральное. Линия передана в аренду газоснабжающей организации. Труба проходит в 4 метрах от дома-бани. Тариф сельский. Единственный в районе Советского шоссе газифицированный поселок. Газ тянули с Верх-Тулы. http://мояпланета.рф/infrastruktura',\n",
              " 59: 'Газоснабжение центральное. Линия передана в аренду газоснабжающей организации. Труба проходит в 4 метрах от дома-бани. Тариф сельский. Единственный в районе Советского шоссе газифицированный поселок. Газ тянули с Верх-Тулы. http://мояпланета.рф/infrastruktura',\n",
              " 60: 'Газоснабжение центральное. Линия передана в аренду газоснабжающей организации. Труба проходит в 4 метрах от дома-бани. Тариф сельский. Единственный в районе Советского шоссе газифицированный поселок. Газ тянули с Верх-Тулы. http://мояпланета.рф/infrastruktura',\n",
              " 61: 'Канализация центральная. Сделан прокол от техэтажа дома в канализационный колодец. Тариф сельский. http://мояпланета.рф/infrastruktura',\n",
              " 62: 'Канализация центральная. Сделан прокол от техэтажа дома в канализационный колодец. Тариф сельский. http://мояпланета.рф/infrastruktura',\n",
              " 63: 'Дорога от города до гаража - асфальт. От шоссе до гаража 2 раза в год все щели заделываются полимер-битумной мастикой. В межсезонье проезд грузового транспорта запрещен.Ширина проезжей части – 6 м, ширина с обочинами – 12 м. Проводятся работы по прокладке тротуара до автобусной остановки.',\n",
              " 64: 'Дорога от города до гаража - асфальт. От шоссе до гаража 2 раза в год все щели заделываются полимер-битумной мастикой. В межсезонье проезд грузового транспорта запрещен.Ширина проезжей части – 6 м, ширина с обочинами – 12 м. Проводятся работы по прокладке тротуара до автобусной остановки.',\n",
              " 65: 'Дорога от города до гаража - асфальт. От шоссе до гаража 2 раза в год все щели заделываются полимер-битумной мастикой. В межсезонье проезд грузового транспорта запрещен.Ширина проезжей части – 6 м, ширина с обочинами – 12 м. Проводятся работы по прокладке тротуара до автобусной остановки.',\n",
              " 66: 'Асфальтированная дорога до гаража. Со стороны Кировского района по Советскому шоссе первый светофор после развязки на Краснообск (6 км). Со стороны ОбьГэса третий светофор по Советскому шоссе за ОбьГэсом (3,5 км). Общественный транспорт по Советскому шоссе.',\n",
              " 67: 'Асфальтированная дорога до гаража. Со стороны Кировского района по Советскому шоссе первый светофор после развязки на Краснообск (6 км). Со стороны ОбьГэса третий светофор по Советскому шоссе за ОбьГэсом (3,5 км). Общественный транспорт по Советскому шоссе.',\n",
              " 68: 'на втором столбе от участка камера видеонаблюдения и видеозаписи охраны направленная вдоль дороги.',\n",
              " 69: 'на втором столбе от участка камера видеонаблюдения и видеозаписи охраны направленная вдоль дороги.',\n",
              " 70: 'Охрана военизированная, есть видеонаблюдение, дежурная комната и комната отдыха, душ, совершается обход поселка, есть группа быстрого реагирования, есть КПП.',\n",
              " 71: 'Охрана военизированная, есть видеонаблюдение, дежурная комната и комната отдыха, душ, совершается обход поселка, есть группа быстрого реагирования, есть КПП.',\n",
              " 72: 'Охрана военизированная, есть видеонаблюдение, дежурная комната и комната отдыха, душ, совершается обход поселка, есть группа быстрого реагирования, есть КПП.',\n",
              " 73: 'Охрана военизированная, есть видеонаблюдение, дежурная комната и комната отдыха, душ, совершается обход поселка, есть группа быстрого реагирования, есть КПП.',\n",
              " 74: 'Сайт общества http://мояпланета.рф/',\n",
              " 75: 'Сайт общества http://мояпланета.рф/',\n",
              " 76: 'Сайт общества http://мояпланета.рф/',\n",
              " 77: 'Сайт общества http://мояпланета.рф/',\n",
              " 78: 'Сайт общества http://мояпланета.рф/',\n",
              " 79: 'Сайт общества http://мояпланета.рф/',\n",
              " 80: 'Сайт общества http://мояпланета.рф/',\n",
              " 81: 'Длина участка 40 метров.',\n",
              " 82: 'Ширина участка 30 метров.',\n",
              " 83: 'Устав общества не распространяется.',\n",
              " 84: 'Правила поселка http://мояпланета.рф/pravila-poselka',\n",
              " 85: 'Правила поселка http://мояпланета.рф/pravila-poselka',\n",
              " 86: 'Правила поселка http://мояпланета.рф/pravila-poselka',\n",
              " 87: 'Правила поселка http://мояпланета.рф/pravila-poselka',\n",
              " 88: 'Озеро искусственное, есть фонтан. Вокруг озера разбивается парк.',\n",
              " 89: 'Озеро искусственное, есть фонтан. Вокруг озера разбивается парк.',\n",
              " 90: 'Озеро искусственное, есть фонтан. Вокруг озера разбивается парк.',\n",
              " 91: 'Озеро искусственное, есть фонтан. Вокруг озера разбивается парк.',\n",
              " 92: 'Услуги интернета в поселке предоставляют Ростелеком и Электронный город.',\n",
              " 93: 'Услуги интернета в поселке предоставляют Ростелеком и Электронный город.',\n",
              " 94: 'Услуги интернета в поселке предоставляют Ростелеком и Электронный город.',\n",
              " 95: 'Услуги интернета в поселке предоставляют Ростелеком и Электронный город.',\n",
              " 96: 'Телевидение в поселке в основном спутниковое.',\n",
              " 97: 'Телевидение в поселке в основном спутниковое.',\n",
              " 98: 'Телевидение в поселке в основном спутниковое.',\n",
              " 99: 'Телевидение в поселке в основном спутниковое.',\n",
              " 100: 'По Советскому шоссе с Кировского района ходит общественный транспорт (автобусы и маршрутки) в Академгородок, Бердск, ОбьГЭС, Морской, Мичуринский.',\n",
              " 101: 'По Советскому шоссе с Кировского района ходит общественный транспорт (автобусы и маршрутки) в Академгородок, Бердск, ОбьГЭС, Морской, Мичуринский.',\n",
              " 102: 'По Советскому шоссе с Кировского района ходит общественный транспорт (автобусы и маршрутки) в Академгородок, Бердск, ОбьГЭС, Морской, Мичуринский.',\n",
              " 103: 'По Советскому шоссе с Кировского района ходит общественный транспорт (автобусы и маршрутки) в Академгородок, Бердск, ОбьГЭС, Морской, Мичуринский.',\n",
              " 104: 'Инфраструктура общества http://мояпланета.рф/infrastruktura',\n",
              " 105: 'Инфраструктура общества http://мояпланета.рф/infrastruktura',\n",
              " 106: 'Инфраструктура общества http://мояпланета.рф/infrastruktura',\n",
              " 107: 'Инфраструктура общества http://мояпланета.рф/infrastruktura',\n",
              " 108: 'Инфраструктура общества http://мояпланета.рф/infrastruktura',\n",
              " 109: 'Планеты Инфраструктура общества http://мояпланета.рф/infrastruktura',\n",
              " 110: 'Инфраструктура общества http://мояпланета.рф/infrastruktura',\n",
              " 111: 'Инфраструктура общества http://мояпланета.рф/infrastruktura',\n",
              " 112: 'Лучшая сотовая связь в поселке у МТС, худшая у Теле2.',\n",
              " 113: 'Карта поселка http://мояпланета.рф/karta-poselka',\n",
              " 114: 'Карта поселка http://мояпланета.рф/karta-poselka',\n",
              " 115: 'Карта поселка http://мояпланета.рф/karta-poselka',\n",
              " 116: 'Карта поселка http://мояпланета.рф/karta-poselka',\n",
              " 117: 'Количество участков в поселке больше 200.',\n",
              " 118: 'Количество участков в поселке больше 200.',\n",
              " 119: 'Количество участков в поселке больше 200.',\n",
              " 120: 'Количество участков в поселке больше 200.',\n",
              " 121: 'Расстояние до шоссе от поселка — 200 метров.',\n",
              " 122: 'Расстояние до шоссе от поселка — 200 метров.',\n",
              " 123: 'Расстояние до площади Маркса по ул. Ватутина - 11 километров.',\n",
              " 124: 'Расстояние до площади Маркса по ул. Ватутина - 11 километров.',\n",
              " 125: 'Расстояние до Академгородка через дамбу - 11 километров.',\n",
              " 126: 'Геология участка выполнялась проектным институтом на начало строительства поселка. Но я уже ее знаю лучше института. Глубинный слой состоит из суглинка. Верховодная вода самая высокая в южной стороне участка на глубине 5 метров весной, осенью ниже. Это видно даже по тому, что там любит крапива расти. С северной стороны участка на глубине 6.5 метров верховодки точно нет. Я проверял буром в котловане под техэтажом. С северной стороны участка сверху примерно метр насыпной супеси. С южной стороны участка примерно метр насыпного черного грунта. Верхний слой — чернозем с Краснообска. Под баней насыпная супесь. Северная сторона поднята выше южной, кроме участка под баней.',\n",
              " 127: 'Геология участка выполнялась проектным институтом на начало строительства поселка. Но я уже ее знаю лучше института. Глубинный слой состоит из суглинка. Верховодная вода самая высокая в южной стороне участка на глубине 5 метров весной, осенью ниже. Это видно даже по тому, что там любит крапива расти. С северной стороны участка на глубине 6.5 метров верховодки точно нет. Я проверял буром в котловане под техэтажом. С северной стороны участка сверху примерно метр насыпной супеси. С южной стороны участка примерно метр насыпного черного грунта. Верхний слой — чернозем с Краснообска. Под баней насыпная супесь. Северная сторона поднята выше южной, кроме участка под баней.',\n",
              " 128: 'Геология участка выполнялась проектным институтом на начало строительства поселка. Но я уже ее знаю лучше института. Глубинный слой состоит из суглинка. Верховодная вода самая высокая в южной стороне участка на глубине 5 метров весной, осенью ниже. Это видно даже по тому, что там любит крапива расти. С северной стороны участка на глубине 6.5 метров верховодки точно нет. Я проверял буром в котловане под техэтажом. С северной стороны участка сверху примерно метр насыпной супеси. С южной стороны участка примерно метр насыпного черного грунта. Верхний слой — чернозем с Краснообска. Под баней насыпная супесь. Северная сторона поднята выше южной, кроме участка под баней.',\n",
              " 129: 'На участке посажены малина и туя. Была плантация клубники, но ее надо восстанавливать.',\n",
              " 130: 'На участке посажены малина и туя. Была плантация клубники, но ее надо восстанавливать.',\n",
              " 131: 'На участке посажены малина и туя. Была плантация клубники, но ее надо восстанавливать.',\n",
              " 132: 'На участке посажены малина и туя. Была плантация клубники, но ее надо восстанавливать.',\n",
              " 133: 'С западной стороны гараж и баня. С северной стороны планировался дом. С юго-восточной стороны сад.',\n",
              " 134: 'С западной стороны гараж и баня. С северной стороны планировался дом. С юго-восточной стороны сад.',\n",
              " 135: 'Вдоль дороги стоят фонарные столбы со светодиодными лампами. Включает и выключает освещение охрана.',\n",
              " 136: 'Вдоль дороги стоят фонарные столбы со светодиодными лампами. Включает и выключает освещение охрана.',\n",
              " 137: 'Вдоль дороги стоят фонарные столбы со светодиодными лампами. Включает и выключает освещение охрана.',\n",
              " 138: 'Вдоль дороги стоят фонарные столбы со светодиодными лампами. Включает и выключает освещение охрана.',\n",
              " 139: 'Вдоль дороги стоят фонарные столбы со светодиодными лампами. Включает и выключает освещение охрана.',\n",
              " 140: 'Магазин в поселке пока один в центре поселка. На вьезде в поселок будет стоить магазин организация, которая построила административное здание поселка. Через чат поселка дают объявление фермеры, приезжающие к поселку торговать.',\n",
              " 141: 'Магазин в поселке пока один в центре поселка. На вьезде в поселок будет стоить магазин организация, которая построила административное здание поселка. Через чат поселка дают объявление фермеры, приезжающие к поселку торговать.',\n",
              " 142: 'Магазин в поселке пока один в центре поселка. На вьезде в поселок будет стоить магазин организация, которая построила административное здание поселка. Через чат поселка дают объявление фермеры, приезжающие к поселку торговать.',\n",
              " 143: 'Магазин в поселке пока один в центре поселка. На вьезде в поселок будет стоить магазин организация, которая построила административное здание поселка. Через чат поселка дают объявление фермеры, приезжающие к поселку торговать.',\n",
              " 144: 'Магазин в поселке пока один в центре поселка. На вьезде в поселок будет стоить магазин организация, которая построила административное здание поселка. Через чат поселка дают объявление фермеры, приезжающие к поселку торговать.',\n",
              " 145: 'Есть два чата: в Вотсап и Телеграмме.',\n",
              " 146: 'Есть два чата: в Вотсап и Телеграмме.',\n",
              " 147: 'Есть два чата: в Вотсап и Телеграмме.',\n",
              " 148: 'Есть два чата: в Вотсап и Телеграмме.',\n",
              " 149: 'Есть два чата: в Вотсап и Телеграмме.',\n",
              " 150: 'Расстояние от поселка до Меги — 8 км.',\n",
              " 151: 'Расстояние от поселка до Меги — 8 км.',\n",
              " 152: 'Расстояние от поселка до Меги — 8 км.',\n",
              " 153: 'Расстояние от поселка до Меги — 8 км.',\n",
              " 154: 'Расстояние от поселка до Меги — 8 км.',\n",
              " 155: 'Природа вокруг поселка: экспериментальные и хозяйственные поля Хозяйства «Элитный»',\n",
              " 156: 'Природа вокруг поселка: экспериментальные и хозяйственные поля Хозяйства «Элитный»',\n",
              " 157: 'Природа вокруг поселка: экспериментальные и хозяйственные поля Хозяйства «Элитный»',\n",
              " 158: 'Природа вокруг поселка: экспериментальные и хозяйственные поля Хозяйства «Элитный»',\n",
              " 159: 'Природа вокруг поселка: экспериментальные и хозяйственные поля Хозяйства «Элитный»',\n",
              " 160: 'Природа вокруг поселка: экспериментальные и хозяйственные поля Хозяйства «Элитный»',\n",
              " 161: 'Гараж с внутренним размером 5.6 х 7,4 имеет фундамент: свайный, ростверк с обратной засыпкой щебнем и стяжкой. Высота потолка – 3 м. Стены из 30 см арболитобетона, заштукатуренные, зашпатлеванные и покрашенные. Крыша из 20 см сэндвич панелей. Двое немецких ворот. Подвал со смотровой ямой размером 3 х 3 х 2,5 метра. Теплоизоляционные свойства гаража позволяют при небольших затратах сделать помещение отапливаемым. Под гаражом имеется подвал 3 х 3 х 3 метра.',\n",
              " 162: 'Ширина гаража внутри 7.4 метра.',\n",
              " 163: 'Длина гаража внутри 5.6 метра.',\n",
              " 164: 'Фундамент гаража представляет собой бетонный ростверк 60 х 40 см, стоящий на 16 бетонных сваях глубиной 3 метра.',\n",
              " 165: 'Стены гаража сделаны из арболитобетона по каркасу из реек. Очень крепкие и очень теплые. Снаружи оштукатурены по металлической сетке, зашпатлеваны по полимерной сетке, покрашены акриловой фасадной краской. Изнутри заштукатурены.',\n",
              " 166: 'Крыша гаража собрана из сэндвич панелей толщиной 20 см. Зимой ни разу не чистилась. Снег на ней не задерживается.',\n",
              " 167: 'Подвал гаража со смотровой ямой выполнен из двух бетонных блоков. Размер подвала: 3 х 3 м, высота 2,5 м. Покрашен цементной краской. Пол выложен брусчаткой. В углу подвала находится колодец с подведенной на участок водой, счетчиком и разводной арматурой. Подвал стоит на 8 кубах щебня крупной фракции.',\n",
              " 168: 'Отмостка гаража не выполнена, по периметру гаража уложен рубероид.',\n",
              " 169: 'Отмостка дома бани утеплена: с южной и западной стороны уложены листы экструзионного пенополистирола и поверх ЭППС георешетка натянутая на кольях, с северной и восточной стороны отмостка под пристройкой и верандой утеплена опилками до полового покрытия пристройки и веранды.',\n",
              " 170: 'Дренаж дома-бани не требуется так как строение стоит на возвышенности относительно участка.',\n",
              " 171: 'Дренаж гаража не требуется так как строение стоит на возвышенности относительно участка.',\n",
              " 172: 'Окна гаража обычные из Леруа 50 х 50 см. 3 штуки, с проветриванием.',\n",
              " 173: 'Дверь гаража стальная из толстого металла.',\n",
              " 174: 'Электричество в гараже отсутствует.',\n",
              " 175: 'Электричество в гараже отсутствует.',\n",
              " 176: 'Электричество в гараже отсутствует.',\n",
              " 177: 'Сантехника в гараже отсутствует.',\n",
              " 178: 'Стены гаража выполнены из арболитобетона. Это самый дышащий строительный материал. Без штукатурки его вообще не используют, продувается. Также имеются две вентиляционные трубы под потолком гаража.',\n",
              " 179: 'Стены гаража выполнены из арболитобетона. Это самый дышащий строительный материал. Без штукатурки его вообще не используют, продувается. Также имеются две вентиляционные трубы под потолком гаража.',\n",
              " 180: 'Водопровод в гараже находится в колодце в подвале.',\n",
              " 181: 'Водопровод в гараже находится в колодце в',\n",
              " 182: 'Водопровод в гараже находится в колодце в подвале.',\n",
              " 183: 'Отопление гаража отсутствует.',\n",
              " 184: 'Высота потолка гаража 3 метра',\n",
              " 185: 'Высота потолка гаража 3 метра',\n",
              " 186: 'Дом-баня размером 6 х 8 м и пристройкой 2 х 8 м имеет теплоизолированный фундамент на автомобильных покрышках, заполненных глиной исключающих появление конденсата на нижней обвязке дома из лиственничного бруса 20 х 20 см. Высота потолка – 2,6 м. На 1,80 м от стен отмостка утеплена экструдированным пенополистиролом сверху обтянутым георешеткой, исключающим промерзание подпола в случае зимнего отопления. Летом грунт под домом в июле еще не прогрет, что создает прохладу на первом этаже дома. Каркасные стены дома сделаны из сосновой доски 15 х 4 см собранных на гвоздях и усиленных металлическими уголками на мебельных конфирматах (самый мощный мебельный крепеж). Снаружи по диагонали стены обшиты лиственничной имитацией бруса. Изнутри кедровой и лиственничной имитацией бруса. Внутри стен и на потолке эковата. Пол комнаты из лиственничной половой рейки. Пол парилки и мойки облицован керамогранитом. Банная печь «Сударушка». Топка чугунная, каменка из нержавейки, под облицовку кирпичом, с большим стеклянным экраном. В конструкции печи предусмотрена вентиляция подпольного пространства. Парилка обшита кедровой имитацией бруса. Имеется мойка, туалет, прихожая, тамбур и веранда. К строению пристроен железобетонный бассейн размером 3 х 3 х1.2 м. Окна дома изготовлены из профиля VEKA с 3-слойным стеклопакетом 32 мм. На мансарду ведет лестница. Строение имеет пристройку размером 2 х 8 м из стальной квадратной трубы и с теплоизолированными стенами обшитыми профлистом. Фундамент пристройки свайный. В доме есть электричество, водопровод, канализация, печное отопление. Газовая труба проходит в 4 метрах от дома. Крыша дома — Ондуллин.',\n",
              " 187: 'Ширина дом-бани 8 метров.',\n",
              " 188: 'Длина дом-бани 8 метров.',\n",
              " 189: 'Высота потолков дом-бани 2.6 метров. Фундамент дома-бани',\n",
              " 190: 'Стены дома-бани каркасные, толщиной 20 мм, утепленные эковатой, изнутри пароизоляция Изовер. Эковату можно подсыпать, т.к. сверху стены открытые. В промежутках под окнами стены утеплены специальной полиуретановой пеной. Каркас собран на гвоздях и усилен стальными уголками, обработан известью. Стены снаружи обшиты по диагонали лиственничной имитацией бруса толщиной 22 мм, снаружи обработаны фасадным маслом, изнутри известью. Стены и потолок внутри комнаты и парилки обшиты кедровой имитацией бруса толщиной 22 мм. Остальные помещения обшиты вагонкой из лиственницы толщиной 14 мм. Обработана глазурью.',\n",
              " 191: 'Потолочное перекрытие дома-бани состоит из лиственничных лаг 18 х 4 см и в виде решетки сверху лаги высотой 20 см. Обработаны известью. Все внутреннее пространство засыпано эковатой. Снизу перекрытие обшито кедровой имитацией бруса, сверху для вентиляции рейкой 4 х 4 см. Между имитацией бруса и эковатой проложен паропроницаемый картон.',\n",
              " 192: 'Пол комнатыдома-бани набран из лиственничной половой рейки 24 мм. Покрыт сверху маслом для пола. Снизу обработан известью. Пол не утеплен, поскольку из-за утепленной завалинки и отмостки предусматривается при зимнем отоплении непромерзаемый под баней теплый грунт. Пол настлан по лиственничным лагам 18 х 4 см обработанных известью. В полу имеется люк для прохода в подпольное пространство.',\n",
              " 193: 'Окна дома-бани сделаны из профиля VEKA с трехслойными стеклопакетами толщиной 32 мм.',\n",
              " 194: 'Лестница на мансарду деревянная однопролетная.',\n",
              " 195: 'Мансарда дома-бани 3,2 х 5,7 м облицована имитацией бруса 22 мм по стенам и вагонкой 14 мм по потолку из сосны. Обработана глазурью. Стены мансарды утеплены опилками. Пол мансарды для лучшей вентиляции набран из рейки 40 х 40 мм с зазором 2 мм и пропитан фасадным маслом. Рекомендую сверху дышащее покрытие, например джутовые ковры. Потолок мансарды утеплен опилками, наклонные стены изолированы пароизоляцией и утеплены матами из льна(кроме ближайших к дымовой трубе пролетов). Имеются два окна с проветриванием из профиля VEKA.',\n",
              " 196: 'Банная печь Сударушка одной из лучших печных фирм VVD (всякие Термофоры даже рядом не стоят) под обкладку кирпичом (уже раритет, этой модификации Сударушки больше не выпускаются). Чугунная топка, закрытая каменка из нержавеющей стали AISI439, большой стеклянный экран. Кирпич лучшая защита от жесткого инфракрасного излучения металла. За счет кирпичных стен и отверстия в фундаменте печи обеспечивается мощный подсос воздуха из подпольного пространства, за счет чего оно сушится и прогревается. Также из подполья идет подсос воздуха в топку печи. В кирпичном экране между печью и комнатой есть 2 дверки для прогрева комнаты. Изнутри кирпичный экран облицован клинкерной плиткой и каменными плитами.',\n",
              " 197: 'Фундамент банной печи собран на сдвоенных лиственничных лагах 18 х 4 см, усиленных поперечными лагами. Под фундамент залиты две дополнительные сваи из автомобильных покрышек, залитых глиной. Поверх лаг плита из ЦСП толщиной 20 мм покрыта стяжкой. Поверх стяжки еще плита ЦСП 20 мм, облицованная керамогранитом.',\n",
              " 198: 'Дымоход печи выполнен из сэндвича из нержавеющей трубы с вермикулитовой засыпкой. Вермикулит гораздо дольше держит тепло чем вата. За счет этого в трубе не образуется конденсат. И имеет неограниченный срок службы. Противопожарная разделка дымохода через перекрытие выполнена из Flamma 0,6 х 0,6 х 0,6 м снаружи засыпанной керамогранитом. Внутри минеральная вата и керамогранит.',\n",
              " 199: 'Дымоход печи выполнен из сэндвича из нержавеющей трубы с вермикулитовой засыпкой. Вермикулит гораздо дольше держит тепло чем вата. За счет этого в трубе не образуется конденсат. И имеет неограниченный срок службы. Противопожарная разделка дымохода через перекрытие выполнена из Flamma 0,6 х 0,6 х 0,6 м снаружи засыпанной керамогранитом. Внутри минеральная вата и керамогранит.',\n",
              " 200: 'Дымоход печи выполнен из сэндвича из нержавеющей трубы с вермикулитовой засыпкой. Вермикулит гораздо дольше держит тепло чем вата. За счет этого в трубе не образуется конденсат. И имеет неограниченный срок службы. Противопожарная разделка дымохода через перекрытие выполнена из Flamma 0,6 х 0,6 х 0,6 м снаружи засыпанной керамогранитом. Внутри минеральная вата и керамогранит.',\n",
              " 201: 'Противопожарная разделка дымохода через перекрытие выполнена из Flamma 0,6 х 0,6 х 0,6 м снаружи засыпанной керамогранитом. Внутри минеральная вата и керамогранит.',\n",
              " 202: 'Пирог пола в парилке: по лагам уложена ЦСП 20 мм, поверх залита стяжка. По стяжке уложен керамогранит.',\n",
              " 203: 'Пирог пола в мойке: по лагам уложены 2 слоя ЦСП 20 мм, поверх залита стяжка. По стяжке уложен керамогранит.',\n",
              " 204: 'Комната в доме-бане 2,8 х 5,6 м, высота потолка – 2,6 м.облицована кедровой имитацией бруса покрашенной глазурью. 2 окна. Пол из лиственничной половой рейки пропитанной маслом для полов.',\n",
              " 205: 'Прихожая в доме-бане 2,8 х 2,6 м. Высота потолка – 2,6 м. Облицована лиственничной вагонкой 14 мм, покрашена глазурью. Потолок из лиственничной имитации бруса, покрашенной глазурью. Пол из ЦСП 20 мм.',\n",
              " 206: 'Пол прихожей в доме-бане выполнен из ЦСП 20 мм. В полу имеется люк для прохода в подпольное пространство.',\n",
              " 207: 'Вентиляция дома-бани есть пассивная и активная. В пассивной имеется 2 вентиляционных трубы в противоположных углах дома из подпольного пространства, вытяжка в туалете, мойке, парилке и в кухонной зоне(можно поставить вентиляторы).Толстый слой эковаты в перекрытии выступает как рекулератор. Активная вытяжка через банную печь, которая засасывает воздух из подпола, передвигая воздух из комнаты в подпол.',\n",
              " 208: 'Бассейн выполнен из бетонного блока 3 х 3 х 1,2 м, на дне бассейна стяжка. Под самоотделку.',\n",
              " 209: 'Веранда дома-бани выполнена из лиственничного бруса покрытого фасадным маслом. На полу только лаги. Есть возможность поднять пол до уровня входной двери. Террасная доска для пола веранды лежит в пристройке. Пространство под полом веранды полностью засыпано опилками.',\n",
              " 210: 'Тамбур дома-бани обшит лиственничной вагонкой 14 мм. Внутри стены засыпаны опилками. Двери в тамбур стальные китайские. Временные. Фронтон закрыт полиэтиленовой пленкой. Фронтон можно сделать глухим либо прозрачным. Под тамбуром пространство полностью опилками засыпать пока не получается т.к. нет наружной стенки. Засыпано под углом.',\n",
              " 211: 'Крыльцо на веранду временное. Изготовлено из пескобетонных блоков, установленных на железобетонную плиту.',\n",
              " 212: 'Моечное отделение в доме-бане 1,8 х 2,1 м. Высота потолка 2,6 м. Отделан лиственничной вагонкой 14 мм, на потолке имитация бруса толщиной 22 мм. Покрашены глазурью. В районе душевой кабины стена отделана кафельной плиткой. Пол отделан керамогранитом с высоким бордюром. Под керамогранитом плита ЦСП 20 мм и стяжка. Установлены фарфоровый душевой поддон, душевая стойка, Электрический бак для воды, бак с нагревом воды от печи, тумба с раковиной.',\n",
              " 213: 'Моечное отделение в доме бане 1,8 х 2,1 м. Высота потолка 2,6 м. Отделан лиственничной вагонкой 14 мм, на потолке имитация бруса толщиной 22 мм. Покрашены глазурью. В районе душевой кабины стена отделана кафельной плиткой. Пол отделан керамогранитом с высоким бордюром. Под керамогранитом плита ЦСП 20 мм и стяжка. Установлены фарфоровый душевой поддон, душевая стойка, Электрический бак для воды, бак с нагревом воды от печи, тумба с раковиной.',\n",
              " 214: 'Моечное отделение в доме бане 1,8 х 2,1 м. Высота потолка 2,6 м. Отделан лиственничной вагонкой 14 мм, на потолке имитация бруса толщиной 22 мм. Покрашены глазурью. В районе душевой кабины стена отделана кафельной плиткой. Пол отделан керамогранитом с высоким бордюром. Под керамогранитом плита ЦСП 20 мм и стяжка. Установлены фарфоровый душевой поддон, душевая стойка, Электрический бак для воды, бак с нагревом воды от печи, тумба с раковиной.',\n",
              " 215: 'Установлены фарфоровый душевой поддон, душевая стойка, Электрический бак для воды, бак с нагревом воды от печи, тумба с раковиной.',\n",
              " 216: 'Туалет в доме-бане 0,9 х 1,1 м не доделан. Отгорожен от мойки стенкой из лиственничной имитации бруса.',\n",
              " 217: 'Пристройка к дому-бане 2 х 8 м сварена из квадратной стальной трубы 40 х 40 х 2 мм. Балка из трубы 100 х 50 х 2 мм. Обшита снаружи сэндвичем с пенополистиролом внутри. Снизу пенополистирол зашит металлом от мышей. Пристройка стоит на бетонных сваях глубиной 3 м. Лаги 20 х 5 см. Посередине пристройки лаги усиленные в расчете на установку печи. В пристройку выведен водопровод. Пространство под полом пристройки полностью засыпано опилками.',\n",
              " 218: 'Крыша дома-бани из Ондуллина. Водосточная стальная система из Леруа.',\n",
              " 219: 'Двери в доме-бане различные. Внутри деревянные, снаружи стальные.',\n",
              " 220: 'Поскольку окон в парилке нет, пришлось выводить стальную трубу длиной 3 м наружу через крышу. Тяга в трубе очень хорошая.',\n",
              " 221: 'Канализационный септик расположен в 8 метрах от дома бани размером 3 х 3 х 2,5 м. Из септика просверлены 16 шахт на глубину 2,5 м. Септик засыпан снаружи и изнутри 8 кубами щебня крупной фракции. От дома до септика проложено 2 утепленных оранжевых 110 мм трубы и выведены в доме под туалетом. Далее канализация разведена в мойку, на мансарду и сливные трапы в полу мойки и парилки. Для прочистки труб Керхером имеются колодцы по пути следования труб.',\n",
              " 222: 'Водопровод в дом-баню проложен проколом от гаража до дна септика на глубину 4 метра (сбоку от септика) и оттуда проколом в яму под баней. Выведен в туалет и разведен мойку, баки, раковину и в пристройку.',\n",
              " 223: 'Электричество в дом-баню проведено на глубине 1,2 м от уровня грунта. От техэтажа под дом до септика, и от септика в траншее с канализационными трубами через футляр заведено в дом. Кабель бронированный. Поверх кабеля лежит сигнальная лента. Далее кабель проложен до щитка в комнате. В щитке установлены автоматические выключатели и УЗО фирмы Legrand. Розетки и выключатели тоже этой фирмы. Под розетками установлены металлические пластины. По дому кабели разведены под полом в металлических противопожарных коробах. Провода в коробах также находятся в полимерных противопожарных гофрированных трубах. Открытая проводка расположена в полимерных специальных коробах. Соединения проводов в распределительных коробках спаяны и упрятаны в колпачки. Провода гостовские и имеют двойной запас по мощности.',\n",
              " 224: 'Отопление в доме-бане банной печью. В конструкции стены под окном имеется промежуток, утепленный минеральной ватой под установку трубы газового конвектора.',\n",
              " 225: 'Крыша в доме-бане из Ондуллина по лиственничным стропилам 18 х 4 см и обрешетке. Стропила обработаны известью. Крыша ни в одну зиму не чистилась. Расчитана с двойным коэффициентом.',\n",
              " 226: 'Двери внутри дома-бани деревянные, наружные металлические. Дверь в прихожую из толстого металла, в тамбур китайские.',\n",
              " 227: 'Двери в пристройку дома-бани стальные китайские.',\n",
              " 228: 'Пол в пристройке дома-бани из плит ЦСП толщиной 20 мм по деревянным лагам 20 х 5 см.',\n",
              " 229: 'Стена в пристройке дома-бани сэндвич-панель толщиной 10 мм с пенополистиролом внутри, снизу закрытой металлом.',\n",
              " 230: 'Крыша в пристройке дома-бани из Ондуллина. Обрешетка по стальным стропилам из стальной трубы 40 х 40 мм.',\n",
              " 231: 'Состоит из двух бетонных блоков общим размером 3 х 3 х2.5 м. Подведены вода, электричество, канализация. Под техэтаж засыпано 8 кубов крупного щебня и 8 кубов (для гидроизоляции) песка.',\n",
              " 232: 'ссылка',\n",
              " 233: 'ссылка',\n",
              " 234: 'ссылка',\n",
              " 235: 'ссылка',\n",
              " 236: 'ссылка',\n",
              " 237: 'ссылка',\n",
              " 238: 'ссылка',\n",
              " 239: 'ссылка',\n",
              " 240: 'ссылка',\n",
              " 241: 'ссылка',\n",
              " 242: 'ссылка',\n",
              " 243: 'ссылка',\n",
              " 244: 'ссылка',\n",
              " 245: 'ссылка',\n",
              " 246: 'ссылка',\n",
              " 247: 'ссылка',\n",
              " 248: 'ссылка',\n",
              " 249: 'ссылка',\n",
              " 250: 'ссылка',\n",
              " 251: 'ссылка',\n",
              " 252: 'ссылка',\n",
              " 253: 'ссылка',\n",
              " 254: 'ссылка',\n",
              " 255: 'ссылка',\n",
              " 256: 'ссылка',\n",
              " 257: 'ссылка',\n",
              " 258: 'ссылка',\n",
              " 259: 'ссылка',\n",
              " 260: 'ссылка',\n",
              " 261: 'ссылка',\n",
              " 262: 'ссылка',\n",
              " 263: 'ссылка',\n",
              " 264: 'ссылка',\n",
              " 265: 'ссылка',\n",
              " 266: 'ссылка',\n",
              " 267: 'ссылка',\n",
              " 268: 'ссылка',\n",
              " 269: 'ссылка',\n",
              " 270: 'ссылка',\n",
              " 271: 'ссылка',\n",
              " 272: 'ссылка',\n",
              " 273: 'ссылка',\n",
              " 274: 'ссылка',\n",
              " 275: 'ссылка',\n",
              " 276: 'ссылка',\n",
              " 277: 'ссылка',\n",
              " 278: 'ссылка',\n",
              " 279: 'ссылка',\n",
              " 280: 'ссылка',\n",
              " 281: 'ссылка',\n",
              " 282: 'ссылка',\n",
              " 283: 'ссылка',\n",
              " 284: 'ссылка',\n",
              " 285: 'ссылка',\n",
              " 286: 'ссылка',\n",
              " 287: 'ссылка',\n",
              " 288: 'ссылка',\n",
              " 289: 'ссылка',\n",
              " 290: 'ссылка',\n",
              " 291: 'ссылка',\n",
              " 292: 'ссылка',\n",
              " 293: 'ссылка',\n",
              " 294: 'ссылка',\n",
              " 295: 'ссылка',\n",
              " 296: 'ссылка',\n",
              " 297: 'ссылка',\n",
              " 298: 'ссылка',\n",
              " 299: 'ссылка',\n",
              " 300: 'ссылка',\n",
              " 301: 'ссылка',\n",
              " 302: 'ссылка',\n",
              " 303: 'ссылка',\n",
              " 304: 'сслыка',\n",
              " 305: 'ссылка',\n",
              " 306: 'ссылка',\n",
              " 307: 'ссылка',\n",
              " 308: 'ссылка',\n",
              " 309: 'ссылка',\n",
              " 310: 'ссылка',\n",
              " 311: 'ссылка',\n",
              " 312: 'ссылка',\n",
              " 313: 'ссылка',\n",
              " 314: 'ссылка',\n",
              " 315: 'ссылка',\n",
              " 316: 'ссылка',\n",
              " 317: 'Координаты: 54.893991, 82.986713. Если ехать с Кировского района: по Советскому шоссе третий светофор, направо. Если ехать с Советского района: по Советскому шоссе: третий светофор налево. На шоссе имеется указатель.',\n",
              " 318: 'Координаты: 54.893991, 82.986713. Если ехать с Кировского района: по Советскому шоссе третий светофор, направо. Если ехать с Советского района: по Советскому шоссе: третий светофор налево. На шоссе имеется указатель.',\n",
              " 319: 'Координаты: 54.893991, 82.986713. Если ехать с Кировского района: по Советскому шоссе третий светофор, направо. Если ехать с Советского района: по Советскому шоссе: третий светофор налево. На шоссе имеется указатель.',\n",
              " 320: 'Координаты: 54.893991, 82.986713. Если ехать с Кировского района: по Советскому шоссе третий светофор, направо. Если ехать с Советского района: по Советскому шоссе: третий светофор налево. На шоссе имеется указатель.',\n",
              " 321: 'ДНТ «Планета» ул. Мечтателей, 5, участок № 41 Координаты: 54.893991, 82.986713',\n",
              " 322: 'ДНТ «Планета» ул. Мечтателей, 5, участок № 41 Координаты: 54.893991, 82.986713',\n",
              " 323: 'ДНТ «Планета» ул. Мечтателей, 5, участок № 41 Координаты: 54.893991, 82.986713',\n",
              " 324: 'ДНТ «Планета» ул. Мечтателей, 5, участок № 41 Координаты: 54.893991, 82.986713',\n",
              " 325: 'Координаты: 54.893991, 82.986713. Если ехать с Кировского района: по Советскому шоссе третий светофор, направо. Если ехать с Советского района: по Советскому шоссе: третий светофор налево. На шоссе имеется указатель.',\n",
              " 326: 'На участке находятся дом-баня, гараж, техэтаж под дом.',\n",
              " 327: 'На участке находятся дом-баня, гараж, техэтаж под дом.',\n",
              " 328: 'Участок 30 х 40 м 12 соток.',\n",
              " 329: 'Участок 30 х 40 м 12 соток.',\n",
              " 330: 'Внутренняя площадь гаража - 5,6 х 7,4 метра.',\n",
              " 331: 'Дом-баня с пристройкой наружный размер 8 х 8 метров.',\n",
              " 332: 'Внутренняя площадь гаража - 5,6 х 7,4 метра.',\n",
              " 333: 'Дом-баня с пристройкой наружный размер 8 х 8 метров.',\n",
              " 334: 'Высота потолка гаража 3 метра.',\n",
              " 335: 'Высота потолка дома-бани 2,6 метра.',\n",
              " 336: 'Цвет гаража персиковый.',\n",
              " 337: 'Цвет дома-бани \"Тик\"',\n",
              " 338: 'Свидетельство о регистрации, технические условия.',\n",
              " 339: 'Категория земель - для дачного строительства, надо менять на ИЖС.',\n",
              " 340: 'Потому что я лучший.',\n",
              " 341: 'Телефон риэлтора 222-22-22',\n",
              " 342: 'Дачное некоммерческое партнерство «Планета» учреждено на общем собрании граждан 19.02.2008 года.',\n",
              " 343: 'Дачное некоммерческое партнерство «Планета» учреждено на общем собрании граждан 19.02.2008 года.',\n",
              " 344: 'Дачное некоммерческое партнерство «Планета» учреждено на общем собрании граждан 19.02.2008 года.',\n",
              " 345: 'Дачное некоммерческое партнерство «Планета» учреждено на общем собрании граждан 19.02.2008 года.',\n",
              " 346: 'Учредителями являются 45 человек, сведения о которых внесены в Единый государственный реестр юридических лиц. Юридическое лицо зарегистрировано 04.03.2008 в ИФНС по Октябрьскому району г. Новосибирска. Партнёрство создано в целях реализации гражданами своих прав на получение дачных земельных участков, владение, пользование и распоряжение данными земельными участками (ст. 4 Федерального закона от 15.04.1998 № 66-ФЗ «О садоводческих, огороднических и дачных некоммерческих объединениях граждан»).',\n",
              " 347: 'Земельный участок для размещения ДНТ «Планета» был выделен из состава неразграниченных земель и имел категорию– земли сельскохозяйственного назначения (подтверждалось выпиской из Государственного кадастра недвижимости от 22.08.2008).Общая площадь дачного поселка составляет около 48 гектаров. В настоящее время в ДНТ «Планета» более 215 членов, которые осуществляют дачное строительство на принадлежащих им земельных участках. Все земельные участки имеют разрешенное использование – для дачного строительства.',\n",
              " 348: 'Земельный участок для размещения ДНТ «Планета» был выделен из состава неразграниченных земель и имел категорию– земли сельскохозяйственного назначения (подтверждалось выпиской из Государственного кадастра недвижимости от 22.08.2008).Общая площадь дачного поселка составляет около 48 гектаров. В настоящее время в ДНТ «Планета» более 215 членов, которые осуществляют дачное строительство на принадлежащих им земельных участках. Все земельные участки имеют разрешенное использование – для дачного строительства.',\n",
              " 349: 'Земельный участок для размещения ДНТ «Планета» был выделен из состава неразграниченных земель и имел категорию– земли сельскохозяйственного назначения (подтверждалось выпиской из Государственного кадастра недвижимости от 22.08.2008).Общая площадь дачного поселка составляет около 48 гектаров. В настоящее время в ДНТ «Планета» более 215 членов, которые осуществляют дачное строительство на принадлежащих им земельных участках. Все земельные участки имеют разрешенное использование – для дачного строительства.',\n",
              " 350: 'Земельный участок для размещения ДНТ «Планета» был выделен из состава неразграниченных земель и имел категорию– земли сельскохозяйственного назначения (подтверждалось выпиской из Государственного кадастра недвижимости от 22.08.2008).Общая площадь дачного поселка составляет около 48 гектаров. В настоящее время в ДНТ «Планета» более 215 членов, которые осуществляют дачное строительство на принадлежащих им земельных участках. Все земельные участки имеют разрешенное использование – для дачного строительства.',\n",
              " 351: 'Земельный участок для размещения ДНТ «Планета» был выделен из состава неразграниченных земель и имел категорию– земли сельскохозяйственного назначения (подтверждалось выпиской из Государственного кадастра недвижимости от 22.08.2008).Общая площадь дачного поселка составляет около 48 гектаров. В настоящее время в ДНТ «Планета» более 215 членов, которые осуществляют дачное строительство на принадлежащих им земельных участках. Все земельные участки имеют разрешенное использование – для дачного строительства.',\n",
              " 352: 'Финансирование поселка, строительство объектов инфраструктуры и их содержание осуществляется исключительно за счет членских и целевых взносов членов ДНТ «Планета».',\n",
              " 353: 'Финансирование поселка, строительство объектов инфраструктуры и их содержание осуществляется исключительно за счет членских и целевых взносов членов ДНТ «Планета».',\n",
              " 354: 'Финансирование поселка, строительство объектов инфраструктуры и их содержание осуществляется исключительно за счет членских и целевых взносов членов ДНТ «Планета».',\n",
              " 355: 'Финансирование поселка, строительство объектов инфраструктуры и их содержание осуществляется исключительно за счет членских и целевых взносов членов ДНТ «Планета».',\n",
              " 356: 'Председатель правления: Рoмaнoв Рoмaн Алeкcaндрoвич. Члены правления: Виниченко Иван Михайлович; Маркелов Андрей Владимирович; Громыко Александр Алексеевич; Дзядук Константин Анатольевич; Сухоруков Артем Александрович.',\n",
              " 357: 'Председатель правления: Рoмaнoв Рoмaн Алeкcaндрoвич. Члены правления: Виниченко Иван Михайлович; Маркелов Андрей Владимирович; Громыко Александр Алексеевич; Дзядук Константин Анатольевич; Сухоруков Артем Александрович.',\n",
              " 358: 'Председатель правления: Рoмaнoв Рoмaн Алeкcaндрoвич. Члены правления: Виниченко Иван Михайлович; Маркелов Андрей Владимирович; Громыко Александр Алексеевич; Дзядук Константин Анатольевич; Сухоруков Артем Александрович.',\n",
              " 359: 'Председатель правления: Рoмaнoв Рoмaн Алeкcaндрoвич. Члены правления: Виниченко Иван Михайлович; Маркелов Андрей Владимирович; Громыко Александр Алексеевич; Дзядук Константин Анатольевич; Сухоруков Артем Александрович.',\n",
              " 360: 'Рoмaнoв Рoмaн Алeкcaндрoвич.',\n",
              " 361: 'Виниченко Иван Михайлович; Маркелов Андрей Владимирович; Громыко Александр Алексеевич; Дзядук Константин Анатольевич; Сухоруков Артем Александрович.',\n",
              " 362: 'Правление собирается каждую субботу с 10 до 14 часов, любой член ДНТ  \"Планета\" может присутствовать на собраниях правления и участвовать в работе.',\n",
              " 363: 'Правление собирается каждую субботу с 10 до 14 часов, любой член ДНТ  \"Планета\" может присутствовать на собраниях правления и участвовать в работе.',\n",
              " 364: 'http://мояпланета.рф/karta-poselka'}"
            ]
          },
          "metadata": {},
          "execution_count": 36
        }
      ],
      "source": [
        "index_map"
      ]
    },
    {
      "cell_type": "code",
      "execution_count": null,
      "metadata": {
        "id": "8FjaozDpMZPG"
      },
      "outputs": [],
      "source": [
        "try:\n",
        "    import cPickle as pickle\n",
        "except ImportError:  # Python 3.x\n",
        "    import pickle\n",
        "\n",
        "with open('index_map_planeta.p', 'wb') as fp:\n",
        "    pickle.dump(index_map, fp, protocol=pickle.HIGHEST_PROTOCOL)"
      ]
    },
    {
      "cell_type": "code",
      "execution_count": null,
      "metadata": {
        "id": "CyPQD0sjMZTY"
      },
      "outputs": [],
      "source": [
        "with open('index_map_planeta.p', 'rb') as fp:\n",
        "    data = pickle.load(fp)"
      ]
    },
    {
      "cell_type": "code",
      "execution_count": null,
      "metadata": {
        "colab": {
          "base_uri": "https://localhost:8080/"
        },
        "id": "XvIVr9dEMZX8",
        "outputId": "2966c57f-158d-45ba-cd17-ac345182dc07"
      },
      "outputs": [
        {
          "output_type": "execute_result",
          "data": {
            "text/plain": [
              "{0: 'да, продаю.',\n",
              " 1: 'да, продаю.',\n",
              " 2: 'да, продаю.',\n",
              " 3: '1 тугрик.',\n",
              " 4: '1 тугрик.',\n",
              " 5: '1 тугрик.',\n",
              " 6: '1 тугрик.',\n",
              " 7: 'В поселке пропускной режим, поэтомусамостоятельно до участка не добраться. Свяжитесь с риэлтором.',\n",
              " 8: 'В поселке пропускной режим, поэтомусамостоятельно до участка не добраться. Свяжитесь с риэлтором.',\n",
              " 9: 'В поселке пропускной режим, поэтомусамостоятельно до участка не добраться. Свяжитесь с риэлтором.',\n",
              " 10: 'В поселке пропускной режим, поэтомусамостоятельно до участка не добраться. Свяжитесь с риэлтором.',\n",
              " 11: 'В поселке пропускной режим, поэтомусамостоятельно до участка не добраться. Свяжитесь с риэлтором.',\n",
              " 12: 'В поселке пропускной режим, поэтомусамостоятельно до участка не добраться. Свяжитесь с риэлтором.',\n",
              " 13: 'Координаты: 54.893991, 82.986713. Если ехать с Кировского района: по Советскому шоссе третий светофор, направо. Если ехать с Советского района: по Советскому шоссе: третий светофор налево.На шоссе имеется указатель.',\n",
              " 14: 'Координаты: 54.893991, 82.986713. Если ехать с Кировского района: по Советскому шоссе третий светофор, направо. Если ехать с Советского района: по Советскому шоссе: третий светофор налево.На шоссе имеется указатель.',\n",
              " 15: 'Координаты: 54.893991, 82.986713. Если ехать с Кировского района: по Советскому шоссе третий светофор, направо. Если ехать с Советского района: по Советскому шоссе: третий светофор налево.На шоссе имеется указатель.',\n",
              " 16: 'ДНТ Планета - один из лучших коттеджных поселков Новосибирска вкотором, в отличие от рекламируемых поселков, все коммуникации принадлежат обществу а не коммерческим организациям. Есть все коммуникации, асфальтированные дороги, развитый общественный транспорт,интернет, связь. Вышка МТС находится в 200 метрах от поселка. На территории поселка построено искусственное озеро. Вся территория поселка огорожена. Имеется военизированная охрана, КПП, видеонаблюдение. Магазин, детская и спортивная площадки. Вокруг поселка посажены деревья.От шоссе поселок отделяет роща. Вокруг поселка построена дренажная система, за счет которой исключены подтопления поселка. Категория земель- для дачного строительства(устарела), сейчас активно земли переводятся в категорию для индивидуального строительства жилья.Есть обширная лесопарковая зона. На все земельные участки в поселке получены кадастровые паспорта и зарегистрировано право собственности. http://мояпланета.рф/o-poselke',\n",
              " 17: 'ДНТ Планета - один из лучших коттеджных поселков Новосибирска вкотором, в отличие от рекламируемых поселков, все коммуникации принадлежат обществу а не коммерческим организациям. Есть все коммуникации, асфальтированные дороги, развитый общественный транспорт,интернет, связь. Вышка МТС находится в 200 метрах от поселка. На территории поселка построено искусственное озеро. Вся территория поселка огорожена. Имеется военизированная охрана, КПП, видеонаблюдение. Магазин, детская и спортивная площадки. Вокруг поселка посажены деревья.От шоссе поселок отделяет роща. Вокруг поселка построена дренажная система, за счет которой исключены подтопления поселка. Категория земель- для дачного строительства(устарела), сейчас активно земли переводятся в категорию для индивидуального строительства жилья. Есть обширная лесопарковая зона. На все земельные участки в поселке получены кадастровые паспорта и зарегистрировано право собственности. http://мояпланета.рф/o-poselke',\n",
              " 18: 'ДНТ Планета - один из лучших коттеджных поселков Новосибирска вкотором, в отличие от рекламируемых поселков, все коммуникации принадлежат обществу а не коммерческим организациям. Есть все коммуникации, асфальтированные дороги, развитый общественный транспорт,интернет, связь. Вышка МТС находится в 200 метрах от поселка. На территории поселка построено искусственное озеро. Вся территория поселка огорожена. Имеется военизированная охрана, КПП, видеонаблюдение. Магазин, детская и спортивная площадки. Вокруг поселка посажены деревья.От шоссе поселок отделяет роща. Вокруг поселка построена дренажная система, за счет которой исключены подтопления поселка. Категория земель- для дачного строительства(устарела), сейчас активно земли переводятся в категорию для индивидуального строительства жилья. Есть обширная лесопарковая зона. На все земельные участки в поселке получены кадастровые паспорта и зарегистрировано право собственности. http://мояпланета.рф/o-poselke',\n",
              " 19: 'Поселок находится около Советского шоссе в 6 км от Кировского и в 3,5 км от Советского районов г. Новосибирска. Это самое современное 4-полосное шоссе в городе на котором не бывает пробок даже в пятницу вечером.В 2 км от Оби и в 3,8 км от Обского моря. От Советского шоссе его отделяет роща. Поселок огорожен, имеется охрана, видеонаблюдение и КПП. http://мояпланета.рф/kontakti',\n",
              " 20: 'Поселок находится около Советского шоссе в 6 км от Кировского и в 3,5 км от Советского районов г. Новосибирска. Это самое современное 4-полосное шоссе в городе на котором не бывает пробок даже в пятницу вечером.В 2 км от Оби и в 3,8 км от Обского моря. От Советского шоссе его отделяет роща. Поселок огорожен, имеется охрана, видеонаблюдение и КПП. http://мояпланета.рф/kontakti',\n",
              " 21: 'Поселок находится около Советского шоссе в 6 км от Кировского и в 3,5 км от Советского районов г. Новосибирска. Это самое современное 4-полосное шоссе в городе на котором не бывает пробок даже в пятницу вечером.В 2 км от Оби и в 3,8 км от Обского моря. От Советского шоссе его отделяет роща. Поселок огорожен, имеется охрана, видеонаблюдение и КПП. http://мояпланета.рф/kontakti',\n",
              " 22: 'Поселок находится около Советского шоссе в 6 км от Кировского и в 3,5 км от Советского районов г. Новосибирска. Это самое современное 4-полосное шоссе в городе на котором не бывает пробок даже в пятницу вечером.В 2 км от Оби и в 3,8 км от Обского моря. От Советского шоссе его отделяет роща. Поселок огорожен, имеется охрана, видеонаблюдение и КПП. http://мояпланета.рф/kontakti',\n",
              " 23: 'Поселок находится около Советского шоссе в 6 км от Кировского и в 3,5 км от Советского районов г. Новосибирска. Это самое современное 4-полосное шоссе в городе на котором не бывает пробок даже в пятницу вечером.В 2 км от Оби и в 3,8 км от Обского моря. От Советского шоссе его отделяет роща. Поселок огорожен, имеется охрана, видеонаблюдение и КПП. http://мояпланета.рф/kontakti',\n",
              " 24: 'Поселок находится около Советского шоссе в 6 км от Кировского и в 3,5 км от Советского районов г. Новосибирска. Это самое современное 4-полосное шоссе в городе на котором не бывает пробок даже в пятницу вечером.В 2 км от Оби и в 3,8 км от Обского моря. От Советского шоссе его отделяет роща. Поселок огорожен, имеется охрана, видеонаблюдение и КПП. http://мояпланета.рф/kontakti',\n",
              " 25: 'Телефоны на сайте http://мояпланета.рф/kontakti',\n",
              " 26: 'Телефоны на сайте http://мояпланета.рф/kontakti',\n",
              " 27: 'Телефоны на сайте http://мояпланета.рф/kontakti',\n",
              " 28: 'Телефоны на сайте http://мояпланета.рф/kontakti',\n",
              " 29: 'Телефоны на сайте http://мояпланета.рф/kontakti',\n",
              " 30: 'Реквизиты на сайте http://мояпланета.рф/kontakti',\n",
              " 31: 'Реквизиты на сайте http://мояпланета.рф/kontakti',\n",
              " 32: 'Реквизиты на сайте http://мояпланета.рф/kontakti',\n",
              " 33: 'Реквизиты на сайте http://мояпланета.рф/kontakti',\n",
              " 34: 'Реквизиты на сайте http://мояпланета.рф/kontakti',\n",
              " 35: 'Реквизиты на сайте http://мояпланета.рф/kontakti',\n",
              " 36: 'Реквизиты на сайте http://мояпланета.рф/kontakti',\n",
              " 37: 'Реквизиты на сайте http://мояпланета.рф/kontakti',\n",
              " 38: 'Поселок огражден забором. Первоначально был огражден профлистом, но сейчас забор меняется на 3D-панели.',\n",
              " 39: 'Участок 30 х 40 м, 12 соток. В собственности. Категория земель – для дачного строительства, устарела. Надо переводить в категорию для индивидуального жилищного строительства. Газ, вода, канализация, электричество 3 фазы, 15 кВт на участок. Асфальтовая дорога. Участок поднят относительно дороги. Половина участка ближе к дороге супесь. Дальняя половина на более чем метр черная земля, сверху чернозем. На участке есть гараж 6 х 8 м, дом-баня 8 х 8 м с мансардой и пристроенным бетонным бассейном, автостоянка.',\n",
              " 40: 'Участок 30 х 40 м, 12 соток. В собственности. Категория земель – для дачного строительства, устарела. Надо переводить в категорию для индивидуального жилищного строительства. Газ, вода, канализация, электричество 3 фазы, 15 кВт на участок. Асфальтовая дорога. Участок поднят относительно дороги. Половина участка ближе к дороге супесь. Дальняя половина на более чем метр черная земля, сверху чернозем. На участке есть гараж 6 х 8 м, дом-баня 8 х 8 м с мансардой и пристроенным бетонным бассейном, автостоянка.',\n",
              " 41: 'Участок расположен в начале поселка в 150 метрах от охраны. Не придется прыгать по лежачим полицейским и разьезжаться на узких, огороженных заборами с ограниченной видимостью перекрестках. Соседи все солидные люди. Вокруг очень красивые дома. Все общественные зоны в пешей доступности. Координаты:54.893551, 82.986411',\n",
              " 42: 'Участок расположен в начале поселка в 150 метрах от охраны. Не придется прыгать по лежачим полицейским и разьезжаться на узких, огороженных заборами с ограниченной видимостью перекрестках. Соседи все солидные люди. Вокруг очень красивые дома. Все общественные зоны в пешей доступности. Координаты:54.893551, 82.986411',\n",
              " 43: 'Участок расположен в начале поселка в 150 метрах от охраны. Не придется прыгать по лежачим полицейским и разьезжаться на узких, огороженных заборами с ограниченной видимостью перекрестках. Соседи все солидные люди. Вокруг очень красивые дома. Все общественные зоны в пешей доступности. Координаты:54.893551, 82.986411',\n",
              " 44: 'Поселок находится около Советского шоссе в 6 км от Кировского и в 3,5 км от Советского районов г. Новосибирска.',\n",
              " 45: 'Поселок находится около Советского шоссе в 6 км от Кировского и в 3,5 км от Советского районов г. Новосибирска.',\n",
              " 46: 'Поселок находится около Советского шоссе в 6 км от Кировского и в 3,5 км от Советского районов г. Новосибирска.',\n",
              " 47: 'Поселок находится около Советского шоссе в 6 км от Кировского и в 3,5 км от Советского районов г. Новосибирска.',\n",
              " 48: 'Поселок находится в 200 м от пос. Мичуринский, 1,3 км от Краснообска, 2 км от пос. Элитный',\n",
              " 49: 'Поселок находится в 200 м от пос. Мичуринский, 1,3 км отКраснообска, 2 км от пос. Элитный',\n",
              " 50: 'Отсыпанный участок(300 Камазов), все коммуникации, асфальт до гаража, гараж с подвалом, дом-баня с верандой, пристройкой и бетонным септиком на 20 куб. м, бассейн, техэтаж под дом, парковка.',\n",
              " 51: 'Все коммуникации, асфальт до гаража, гараж с подвалом, дом-баня с верандой, пристройкой и бетонным септиком на 20 куб. м, бассейн, техэтаж под дом, парковка.',\n",
              " 52: 'К участку подведено 15 кВт по отдельной поселковой линии от подстанции в Краснообске. Линия передана в аренду РЭС. На подстанции за нашей линией закреплено 2 фидера. По участку проложен подземный алюминиевый кабель. В доме разводка медная. Электрическая аппаратура Legrand. . В районе бани выполнен заземляющий контур из стального прутка 12 х 12мм на глубину 4 метра. Тариф сельский. http://мояпланета.рф/infrastruktura',\n",
              " 53: 'К участку подведено 15 кВт по отдельной поселковой линии от подстанции в Краснообске. Линия передана в аренду РЭС. На подстанции за нашей линией закреплено 2 фидера. По участку проложен подземный алюминиевый кабель. В доме разводка медная. Электрическая аппаратура Legrand. . В районе бани выполнен заземляющий контур из стального прутка 12 х 12мм на глубину 4 метра. Тариф сельский. http://мояпланета.рф/infrastruktura',\n",
              " 54: 'К участку подведено 15 кВт по отдельной поселковой линии от подстанции в Краснообске. Линия передана в аренду РЭС. На подстанции за нашей линией закреплено 2 фидера. По участку проложен подземный алюминиевый кабель. В доме разводка медная. Электрическая аппаратура Legrand. . В районе бани выполнен заземляющий контур из стального прутка 12 х 12мм на глубину 4 метра. Тариф сельский. http://мояпланета.рф/infrastruktura',\n",
              " 55: 'Вода в поселке городская.Водопровод передан на баланс Горводоканала. От колодца поступает в подвал гаража, из подвала проколы под техэтаж дома и в дом-баню. Тариф сельский. http://мояпланета.рф/infrastruktura',\n",
              " 56: 'Вода в поселке городская.Водопровод передан на баланс Горводоканала. От колодца поступает в подвал гаража, из подвала проколы под техэтаж дома и в дом-баню. Тариф сельский. http://мояпланета.рф/infrastruktura',\n",
              " 57: 'Вода в поселке городская.Водопровод передан на баланс Горводоканала. От колодца поступает в подвал гаража, из подвала проколы под техэтаж дома и в дом-баню. Тариф сельский. http://мояпланета.рф/infrastruktura',\n",
              " 58: 'Газоснабжение центральное. Линия передана в аренду газоснабжающей организации. Труба проходит в 4 метрах от дома-бани. Тариф сельский. Единственный в районе Советского шоссе газифицированный поселок. Газ тянули с Верх-Тулы. http://мояпланета.рф/infrastruktura',\n",
              " 59: 'Газоснабжение центральное. Линия передана в аренду газоснабжающей организации. Труба проходит в 4 метрах от дома-бани. Тариф сельский. Единственный в районе Советского шоссе газифицированный поселок. Газ тянули с Верх-Тулы. http://мояпланета.рф/infrastruktura',\n",
              " 60: 'Газоснабжение центральное. Линия передана в аренду газоснабжающей организации. Труба проходит в 4 метрах от дома-бани. Тариф сельский. Единственный в районе Советского шоссе газифицированный поселок. Газ тянули с Верх-Тулы. http://мояпланета.рф/infrastruktura',\n",
              " 61: 'Канализация центральная. Сделан прокол от техэтажа дома в канализационный колодец. Тариф сельский. http://мояпланета.рф/infrastruktura',\n",
              " 62: 'Канализация центральная. Сделан прокол от техэтажа дома в канализационный колодец. Тариф сельский. http://мояпланета.рф/infrastruktura',\n",
              " 63: 'Дорога от города до гаража - асфальт. От шоссе до гаража 2 раза в год все щели заделываются полимер-битумной мастикой. В межсезонье проезд грузового транспорта запрещен.Ширина проезжей части – 6 м, ширина с обочинами – 12 м. Проводятся работы по прокладке тротуара до автобусной остановки.',\n",
              " 64: 'Дорога от города до гаража - асфальт. От шоссе до гаража 2 раза в год все щели заделываются полимер-битумной мастикой. В межсезонье проезд грузового транспорта запрещен.Ширина проезжей части – 6 м, ширина с обочинами – 12 м. Проводятся работы по прокладке тротуара до автобусной остановки.',\n",
              " 65: 'Дорога от города до гаража - асфальт. От шоссе до гаража 2 раза в год все щели заделываются полимер-битумной мастикой. В межсезонье проезд грузового транспорта запрещен.Ширина проезжей части – 6 м, ширина с обочинами – 12 м. Проводятся работы по прокладке тротуара до автобусной остановки.',\n",
              " 66: 'Асфальтированная дорога до гаража. Со стороны Кировского района по Советскому шоссе первый светофор после развязки на Краснообск (6 км). Со стороны ОбьГэса третий светофор по Советскому шоссе за ОбьГэсом (3,5 км). Общественный транспорт по Советскому шоссе.',\n",
              " 67: 'Асфальтированная дорога до гаража. Со стороны Кировского района по Советскому шоссе первый светофор после развязки на Краснообск (6 км). Со стороны ОбьГэса третий светофор по Советскому шоссе за ОбьГэсом (3,5 км). Общественный транспорт по Советскому шоссе.',\n",
              " 68: 'на втором столбе от участка камера видеонаблюдения и видеозаписи охраны направленная вдоль дороги.',\n",
              " 69: 'на втором столбе от участка камера видеонаблюдения и видеозаписи охраны направленная вдоль дороги.',\n",
              " 70: 'Охрана военизированная, есть видеонаблюдение, дежурная комната и комната отдыха, душ, совершается обход поселка, есть группа быстрого реагирования, есть КПП.',\n",
              " 71: 'Охрана военизированная, есть видеонаблюдение, дежурная комната и комната отдыха, душ, совершается обход поселка, есть группа быстрого реагирования, есть КПП.',\n",
              " 72: 'Охрана военизированная, есть видеонаблюдение, дежурная комната и комната отдыха, душ, совершается обход поселка, есть группа быстрого реагирования, есть КПП.',\n",
              " 73: 'Охрана военизированная, есть видеонаблюдение, дежурная комната и комната отдыха, душ, совершается обход поселка, есть группа быстрого реагирования, есть КПП.',\n",
              " 74: 'Сайт общества http://мояпланета.рф/',\n",
              " 75: 'Сайт общества http://мояпланета.рф/',\n",
              " 76: 'Сайт общества http://мояпланета.рф/',\n",
              " 77: 'Сайт общества http://мояпланета.рф/',\n",
              " 78: 'Сайт общества http://мояпланета.рф/',\n",
              " 79: 'Сайт общества http://мояпланета.рф/',\n",
              " 80: 'Сайт общества http://мояпланета.рф/',\n",
              " 81: 'Длина участка 40 метров.',\n",
              " 82: 'Ширина участка 30 метров.',\n",
              " 83: 'Устав общества не распространяется.',\n",
              " 84: 'Правила поселка http://мояпланета.рф/pravila-poselka',\n",
              " 85: 'Правила поселка http://мояпланета.рф/pravila-poselka',\n",
              " 86: 'Правила поселка http://мояпланета.рф/pravila-poselka',\n",
              " 87: 'Правила поселка http://мояпланета.рф/pravila-poselka',\n",
              " 88: 'Озеро искусственное, есть фонтан. Вокруг озера разбивается парк.',\n",
              " 89: 'Озеро искусственное, есть фонтан. Вокруг озера разбивается парк.',\n",
              " 90: 'Озеро искусственное, есть фонтан. Вокруг озера разбивается парк.',\n",
              " 91: 'Озеро искусственное, есть фонтан. Вокруг озера разбивается парк.',\n",
              " 92: 'Услуги интернета в поселке предоставляют Ростелеком и Электронный город.',\n",
              " 93: 'Услуги интернета в поселке предоставляют Ростелеком и Электронный город.',\n",
              " 94: 'Услуги интернета в поселке предоставляют Ростелеком и Электронный город.',\n",
              " 95: 'Услуги интернета в поселке предоставляют Ростелеком и Электронный город.',\n",
              " 96: 'Телевидение в поселке в основном спутниковое.',\n",
              " 97: 'Телевидение в поселке в основном спутниковое.',\n",
              " 98: 'Телевидение в поселке в основном спутниковое.',\n",
              " 99: 'Телевидение в поселке в основном спутниковое.',\n",
              " 100: 'По Советскому шоссе с Кировского района ходит общественный транспорт (автобусы и маршрутки) в Академгородок, Бердск, ОбьГЭС, Морской, Мичуринский.',\n",
              " 101: 'По Советскому шоссе с Кировского района ходит общественный транспорт (автобусы и маршрутки) в Академгородок, Бердск, ОбьГЭС, Морской, Мичуринский.',\n",
              " 102: 'По Советскому шоссе с Кировского района ходит общественный транспорт (автобусы и маршрутки) в Академгородок, Бердск, ОбьГЭС, Морской, Мичуринский.',\n",
              " 103: 'По Советскому шоссе с Кировского района ходит общественный транспорт (автобусы и маршрутки) в Академгородок, Бердск, ОбьГЭС, Морской, Мичуринский.',\n",
              " 104: 'Инфраструктура общества http://мояпланета.рф/infrastruktura',\n",
              " 105: 'Инфраструктура общества http://мояпланета.рф/infrastruktura',\n",
              " 106: 'Инфраструктура общества http://мояпланета.рф/infrastruktura',\n",
              " 107: 'Инфраструктура общества http://мояпланета.рф/infrastruktura',\n",
              " 108: 'Инфраструктура общества http://мояпланета.рф/infrastruktura',\n",
              " 109: 'Планеты Инфраструктура общества http://мояпланета.рф/infrastruktura',\n",
              " 110: 'Инфраструктура общества http://мояпланета.рф/infrastruktura',\n",
              " 111: 'Инфраструктура общества http://мояпланета.рф/infrastruktura',\n",
              " 112: 'Лучшая сотовая связь в поселке у МТС, худшая у Теле2.',\n",
              " 113: 'Карта поселка http://мояпланета.рф/karta-poselka',\n",
              " 114: 'Карта поселка http://мояпланета.рф/karta-poselka',\n",
              " 115: 'Карта поселка http://мояпланета.рф/karta-poselka',\n",
              " 116: 'Карта поселка http://мояпланета.рф/karta-poselka',\n",
              " 117: 'Количество участков в поселке больше 200.',\n",
              " 118: 'Количество участков в поселке больше 200.',\n",
              " 119: 'Количество участков в поселке больше 200.',\n",
              " 120: 'Количество участков в поселке больше 200.',\n",
              " 121: 'Расстояние до шоссе от поселка — 200 метров.',\n",
              " 122: 'Расстояние до шоссе от поселка — 200 метров.',\n",
              " 123: 'Расстояние до площади Маркса по ул. Ватутина - 11 километров.',\n",
              " 124: 'Расстояние до площади Маркса по ул. Ватутина - 11 километров.',\n",
              " 125: 'Расстояние до Академгородка через дамбу - 11 километров.',\n",
              " 126: 'Геология участка выполнялась проектным институтом на начало строительства поселка. Но я уже ее знаю лучше института. Глубинный слой состоит из суглинка. Верховодная вода самая высокая в южной стороне участка на глубине 5 метров весной, осенью ниже. Это видно даже по тому, что там любит крапива расти. С северной стороны участка на глубине 6.5 метров верховодки точно нет. Я проверял буром в котловане под техэтажом. С северной стороны участка сверху примерно метр насыпной супеси. С южной стороны участка примерно метр насыпного черного грунта. Верхний слой — чернозем с Краснообска. Под баней насыпная супесь. Северная сторона поднята выше южной, кроме участка под баней.',\n",
              " 127: 'Геология участка выполнялась проектным институтом на начало строительства поселка. Но я уже ее знаю лучше института. Глубинный слой состоит из суглинка. Верховодная вода самая высокая в южной стороне участка на глубине 5 метров весной, осенью ниже. Это видно даже по тому, что там любит крапива расти. С северной стороны участка на глубине 6.5 метров верховодки точно нет. Я проверял буром в котловане под техэтажом. С северной стороны участка сверху примерно метр насыпной супеси. С южной стороны участка примерно метр насыпного черного грунта. Верхний слой — чернозем с Краснообска. Под баней насыпная супесь. Северная сторона поднята выше южной, кроме участка под баней.',\n",
              " 128: 'Геология участка выполнялась проектным институтом на начало строительства поселка. Но я уже ее знаю лучше института. Глубинный слой состоит из суглинка. Верховодная вода самая высокая в южной стороне участка на глубине 5 метров весной, осенью ниже. Это видно даже по тому, что там любит крапива расти. С северной стороны участка на глубине 6.5 метров верховодки точно нет. Я проверял буром в котловане под техэтажом. С северной стороны участка сверху примерно метр насыпной супеси. С южной стороны участка примерно метр насыпного черного грунта. Верхний слой — чернозем с Краснообска. Под баней насыпная супесь. Северная сторона поднята выше южной, кроме участка под баней.',\n",
              " 129: 'На участке посажены малина и туя. Была плантация клубники, но ее надо восстанавливать.',\n",
              " 130: 'На участке посажены малина и туя. Была плантация клубники, но ее надо восстанавливать.',\n",
              " 131: 'На участке посажены малина и туя. Была плантация клубники, но ее надо восстанавливать.',\n",
              " 132: 'На участке посажены малина и туя. Была плантация клубники, но ее надо восстанавливать.',\n",
              " 133: 'С западной стороны гараж и баня. С северной стороны планировался дом. С юго-восточной стороны сад.',\n",
              " 134: 'С западной стороны гараж и баня. С северной стороны планировался дом. С юго-восточной стороны сад.',\n",
              " 135: 'Вдоль дороги стоят фонарные столбы со светодиодными лампами. Включает и выключает освещение охрана.',\n",
              " 136: 'Вдоль дороги стоят фонарные столбы со светодиодными лампами. Включает и выключает освещение охрана.',\n",
              " 137: 'Вдоль дороги стоят фонарные столбы со светодиодными лампами. Включает и выключает освещение охрана.',\n",
              " 138: 'Вдоль дороги стоят фонарные столбы со светодиодными лампами. Включает и выключает освещение охрана.',\n",
              " 139: 'Вдоль дороги стоят фонарные столбы со светодиодными лампами. Включает и выключает освещение охрана.',\n",
              " 140: 'Магазин в поселке пока один в центре поселка. На вьезде в поселок будет стоить магазин организация, которая построила административное здание поселка. Через чат поселка дают объявление фермеры, приезжающие к поселку торговать.',\n",
              " 141: 'Магазин в поселке пока один в центре поселка. На вьезде в поселок будет стоить магазин организация, которая построила административное здание поселка. Через чат поселка дают объявление фермеры, приезжающие к поселку торговать.',\n",
              " 142: 'Магазин в поселке пока один в центре поселка. На вьезде в поселок будет стоить магазин организация, которая построила административное здание поселка. Через чат поселка дают объявление фермеры, приезжающие к поселку торговать.',\n",
              " 143: 'Магазин в поселке пока один в центре поселка. На вьезде в поселок будет стоить магазин организация, которая построила административное здание поселка. Через чат поселка дают объявление фермеры, приезжающие к поселку торговать.',\n",
              " 144: 'Магазин в поселке пока один в центре поселка. На вьезде в поселок будет стоить магазин организация, которая построила административное здание поселка. Через чат поселка дают объявление фермеры, приезжающие к поселку торговать.',\n",
              " 145: 'Есть два чата: в Вотсап и Телеграмме.',\n",
              " 146: 'Есть два чата: в Вотсап и Телеграмме.',\n",
              " 147: 'Есть два чата: в Вотсап и Телеграмме.',\n",
              " 148: 'Есть два чата: в Вотсап и Телеграмме.',\n",
              " 149: 'Есть два чата: в Вотсап и Телеграмме.',\n",
              " 150: 'Расстояние от поселка до Меги — 8 км.',\n",
              " 151: 'Расстояние от поселка до Меги — 8 км.',\n",
              " 152: 'Расстояние от поселка до Меги — 8 км.',\n",
              " 153: 'Расстояние от поселка до Меги — 8 км.',\n",
              " 154: 'Расстояние от поселка до Меги — 8 км.',\n",
              " 155: 'Природа вокруг поселка: экспериментальные и хозяйственные поля Хозяйства «Элитный»',\n",
              " 156: 'Природа вокруг поселка: экспериментальные и хозяйственные поля Хозяйства «Элитный»',\n",
              " 157: 'Природа вокруг поселка: экспериментальные и хозяйственные поля Хозяйства «Элитный»',\n",
              " 158: 'Природа вокруг поселка: экспериментальные и хозяйственные поля Хозяйства «Элитный»',\n",
              " 159: 'Природа вокруг поселка: экспериментальные и хозяйственные поля Хозяйства «Элитный»',\n",
              " 160: 'Природа вокруг поселка: экспериментальные и хозяйственные поля Хозяйства «Элитный»',\n",
              " 161: 'Гараж с внутренним размером 5.6 х 7,4 имеет фундамент: свайный, ростверк с обратной засыпкой щебнем и стяжкой. Высота потолка – 3 м. Стены из 30 см арболитобетона, заштукатуренные, зашпатлеванные и покрашенные. Крыша из 20 см сэндвич панелей. Двое немецких ворот. Подвал со смотровой ямой размером 3 х 3 х 2,5 метра. Теплоизоляционные свойства гаража позволяют при небольших затратах сделать помещение отапливаемым. Под гаражом имеется подвал 3 х 3 х 3 метра.',\n",
              " 162: 'Ширина гаража внутри 7.4 метра.',\n",
              " 163: 'Длина гаража внутри 5.6 метра.',\n",
              " 164: 'Фундамент гаража представляет собой бетонный ростверк 60 х 40 см, стоящий на 16 бетонных сваях глубиной 3 метра.',\n",
              " 165: 'Стены гаража сделаны из арболитобетона по каркасу из реек. Очень крепкие и очень теплые. Снаружи оштукатурены по металлической сетке, зашпатлеваны по полимерной сетке, покрашены акриловой фасадной краской. Изнутри заштукатурены.',\n",
              " 166: 'Крыша гаража собрана из сэндвич панелей толщиной 20 см. Зимой ни разу не чистилась. Снег на ней не задерживается.',\n",
              " 167: 'Подвал гаража со смотровой ямой выполнен из двух бетонных блоков. Размер подвала: 3 х 3 м, высота 2,5 м. Покрашен цементной краской. Пол выложен брусчаткой. В углу подвала находится колодец с подведенной на участок водой, счетчиком и разводной арматурой. Подвал стоит на 8 кубах щебня крупной фракции.',\n",
              " 168: 'Отмостка гаража не выполнена, по периметру гаража уложен рубероид.',\n",
              " 169: 'Отмостка дома бани утеплена: с южной и западной стороны уложены листы экструзионного пенополистирола и поверх ЭППС георешетка натянутая на кольях, с северной и восточной стороны отмостка под пристройкой и верандой утеплена опилками до полового покрытия пристройки и веранды.',\n",
              " 170: 'Дренаж дома-бани не требуется так как строение стоит на возвышенности относительно участка.',\n",
              " 171: 'Дренаж гаража не требуется так как строение стоит на возвышенности относительно участка.',\n",
              " 172: 'Окна гаража обычные из Леруа 50 х 50 см. 3 штуки, с проветриванием.',\n",
              " 173: 'Дверь гаража стальная из толстого металла.',\n",
              " 174: 'Электричество в гараже отсутствует.',\n",
              " 175: 'Электричество в гараже отсутствует.',\n",
              " 176: 'Электричество в гараже отсутствует.',\n",
              " 177: 'Сантехника в гараже отсутствует.',\n",
              " 178: 'Стены гаража выполнены из арболитобетона. Это самый дышащий строительный материал. Без штукатурки его вообще не используют, продувается. Также имеются две вентиляционные трубы под потолком гаража.',\n",
              " 179: 'Стены гаража выполнены из арболитобетона. Это самый дышащий строительный материал. Без штукатурки его вообще не используют, продувается. Также имеются две вентиляционные трубы под потолком гаража.',\n",
              " 180: 'Водопровод в гараже находится в колодце в подвале.',\n",
              " 181: 'Водопровод в гараже находится в колодце в',\n",
              " 182: 'Водопровод в гараже находится в колодце в подвале.',\n",
              " 183: 'Отопление гаража отсутствует.',\n",
              " 184: 'Высота потолка гаража 3 метра',\n",
              " 185: 'Высота потолка гаража 3 метра',\n",
              " 186: 'Дом-баня размером 6 х 8 м и пристройкой 2 х 8 м имеет теплоизолированный фундамент на автомобильных покрышках, заполненных глиной исключающих появление конденсата на нижней обвязке дома из лиственничного бруса 20 х 20 см. Высота потолка – 2,6 м. На 1,80 м от стен отмостка утеплена экструдированным пенополистиролом сверху обтянутым георешеткой, исключающим промерзание подпола в случае зимнего отопления. Летом грунт под домом в июле еще не прогрет, что создает прохладу на первом этаже дома. Каркасные стены дома сделаны из сосновой доски 15 х 4 см собранных на гвоздях и усиленных металлическими уголками на мебельных конфирматах (самый мощный мебельный крепеж). Снаружи по диагонали стены обшиты лиственничной имитацией бруса. Изнутри кедровой и лиственничной имитацией бруса. Внутри стен и на потолке эковата. Пол комнаты из лиственничной половой рейки. Пол парилки и мойки облицован керамогранитом. Банная печь «Сударушка». Топка чугунная, каменка из нержавейки, под облицовку кирпичом, с большим стеклянным экраном. В конструкции печи предусмотрена вентиляция подпольного пространства. Парилка обшита кедровой имитацией бруса. Имеется мойка, туалет, прихожая, тамбур и веранда. К строению пристроен железобетонный бассейн размером 3 х 3 х1.2 м. Окна дома изготовлены из профиля VEKA с 3-слойным стеклопакетом 32 мм. На мансарду ведет лестница. Строение имеет пристройку размером 2 х 8 м из стальной квадратной трубы и с теплоизолированными стенами обшитыми профлистом. Фундамент пристройки свайный. В доме есть электричество, водопровод, канализация, печное отопление. Газовая труба проходит в 4 метрах от дома. Крыша дома — Ондуллин.',\n",
              " 187: 'Ширина дом-бани 8 метров.',\n",
              " 188: 'Длина дом-бани 8 метров.',\n",
              " 189: 'Высота потолков дом-бани 2.6 метров. Фундамент дома-бани',\n",
              " 190: 'Стены дома-бани каркасные, толщиной 20 мм, утепленные эковатой, изнутри пароизоляция Изовер. Эковату можно подсыпать, т.к. сверху стены открытые. В промежутках под окнами стены утеплены специальной полиуретановой пеной. Каркас собран на гвоздях и усилен стальными уголками, обработан известью. Стены снаружи обшиты по диагонали лиственничной имитацией бруса толщиной 22 мм, снаружи обработаны фасадным маслом, изнутри известью. Стены и потолок внутри комнаты и парилки обшиты кедровой имитацией бруса толщиной 22 мм. Остальные помещения обшиты вагонкой из лиственницы толщиной 14 мм. Обработана глазурью.',\n",
              " 191: 'Потолочное перекрытие дома-бани состоит из лиственничных лаг 18 х 4 см и в виде решетки сверху лаги высотой 20 см. Обработаны известью. Все внутреннее пространство засыпано эковатой. Снизу перекрытие обшито кедровой имитацией бруса, сверху для вентиляции рейкой 4 х 4 см. Между имитацией бруса и эковатой проложен паропроницаемый картон.',\n",
              " 192: 'Пол комнатыдома-бани набран из лиственничной половой рейки 24 мм. Покрыт сверху маслом для пола. Снизу обработан известью. Пол не утеплен, поскольку из-за утепленной завалинки и отмостки предусматривается при зимнем отоплении непромерзаемый под баней теплый грунт. Пол настлан по лиственничным лагам 18 х 4 см обработанных известью. В полу имеется люк для прохода в подпольное пространство.',\n",
              " 193: 'Окна дома-бани сделаны из профиля VEKA с трехслойными стеклопакетами толщиной 32 мм.',\n",
              " 194: 'Лестница на мансарду деревянная однопролетная.',\n",
              " 195: 'Мансарда дома-бани 3,2 х 5,7 м облицована имитацией бруса 22 мм по стенам и вагонкой 14 мм по потолку из сосны. Обработана глазурью. Стены мансарды утеплены опилками. Пол мансарды для лучшей вентиляции набран из рейки 40 х 40 мм с зазором 2 мм и пропитан фасадным маслом. Рекомендую сверху дышащее покрытие, например джутовые ковры. Потолок мансарды утеплен опилками, наклонные стены изолированы пароизоляцией и утеплены матами из льна(кроме ближайших к дымовой трубе пролетов). Имеются два окна с проветриванием из профиля VEKA.',\n",
              " 196: 'Банная печь Сударушка одной из лучших печных фирм VVD (всякие Термофоры даже рядом не стоят) под обкладку кирпичом (уже раритет, этой модификации Сударушки больше не выпускаются). Чугунная топка, закрытая каменка из нержавеющей стали AISI439, большой стеклянный экран. Кирпич лучшая защита от жесткого инфракрасного излучения металла. За счет кирпичных стен и отверстия в фундаменте печи обеспечивается мощный подсос воздуха из подпольного пространства, за счет чего оно сушится и прогревается. Также из подполья идет подсос воздуха в топку печи. В кирпичном экране между печью и комнатой есть 2 дверки для прогрева комнаты. Изнутри кирпичный экран облицован клинкерной плиткой и каменными плитами.',\n",
              " 197: 'Фундамент банной печи собран на сдвоенных лиственничных лагах 18 х 4 см, усиленных поперечными лагами. Под фундамент залиты две дополнительные сваи из автомобильных покрышек, залитых глиной. Поверх лаг плита из ЦСП толщиной 20 мм покрыта стяжкой. Поверх стяжки еще плита ЦСП 20 мм, облицованная керамогранитом.',\n",
              " 198: 'Дымоход печи выполнен из сэндвича из нержавеющей трубы с вермикулитовой засыпкой. Вермикулит гораздо дольше держит тепло чем вата. За счет этого в трубе не образуется конденсат. И имеет неограниченный срок службы. Противопожарная разделка дымохода через перекрытие выполнена из Flamma 0,6 х 0,6 х 0,6 м снаружи засыпанной керамогранитом. Внутри минеральная вата и керамогранит.',\n",
              " 199: 'Дымоход печи выполнен из сэндвича из нержавеющей трубы с вермикулитовой засыпкой. Вермикулит гораздо дольше держит тепло чем вата. За счет этого в трубе не образуется конденсат. И имеет неограниченный срок службы. Противопожарная разделка дымохода через перекрытие выполнена из Flamma 0,6 х 0,6 х 0,6 м снаружи засыпанной керамогранитом. Внутри минеральная вата и керамогранит.',\n",
              " 200: 'Дымоход печи выполнен из сэндвича из нержавеющей трубы с вермикулитовой засыпкой. Вермикулит гораздо дольше держит тепло чем вата. За счет этого в трубе не образуется конденсат. И имеет неограниченный срок службы. Противопожарная разделка дымохода через перекрытие выполнена из Flamma 0,6 х 0,6 х 0,6 м снаружи засыпанной керамогранитом. Внутри минеральная вата и керамогранит.',\n",
              " 201: 'Противопожарная разделка дымохода через перекрытие выполнена из Flamma 0,6 х 0,6 х 0,6 м снаружи засыпанной керамогранитом. Внутри минеральная вата и керамогранит.',\n",
              " 202: 'Пирог пола в парилке: по лагам уложена ЦСП 20 мм, поверх залита стяжка. По стяжке уложен керамогранит.',\n",
              " 203: 'Пирог пола в мойке: по лагам уложены 2 слоя ЦСП 20 мм, поверх залита стяжка. По стяжке уложен керамогранит.',\n",
              " 204: 'Комната в доме-бане 2,8 х 5,6 м, высота потолка – 2,6 м.облицована кедровой имитацией бруса покрашенной глазурью. 2 окна. Пол из лиственничной половой рейки пропитанной маслом для полов.',\n",
              " 205: 'Прихожая в доме-бане 2,8 х 2,6 м. Высота потолка – 2,6 м. Облицована лиственничной вагонкой 14 мм, покрашена глазурью. Потолок из лиственничной имитации бруса, покрашенной глазурью. Пол из ЦСП 20 мм.',\n",
              " 206: 'Пол прихожей в доме-бане выполнен из ЦСП 20 мм. В полу имеется люк для прохода в подпольное пространство.',\n",
              " 207: 'Вентиляция дома-бани есть пассивная и активная. В пассивной имеется 2 вентиляционных трубы в противоположных углах дома из подпольного пространства, вытяжка в туалете, мойке, парилке и в кухонной зоне(можно поставить вентиляторы).Толстый слой эковаты в перекрытии выступает как рекулератор. Активная вытяжка через банную печь, которая засасывает воздух из подпола, передвигая воздух из комнаты в подпол.',\n",
              " 208: 'Бассейн выполнен из бетонного блока 3 х 3 х 1,2 м, на дне бассейна стяжка. Под самоотделку.',\n",
              " 209: 'Веранда дома-бани выполнена из лиственничного бруса покрытого фасадным маслом. На полу только лаги. Есть возможность поднять пол до уровня входной двери. Террасная доска для пола веранды лежит в пристройке. Пространство под полом веранды полностью засыпано опилками.',\n",
              " 210: 'Тамбур дома-бани обшит лиственничной вагонкой 14 мм. Внутри стены засыпаны опилками. Двери в тамбур стальные китайские. Временные. Фронтон закрыт полиэтиленовой пленкой. Фронтон можно сделать глухим либо прозрачным. Под тамбуром пространство полностью опилками засыпать пока не получается т.к. нет наружной стенки. Засыпано под углом.',\n",
              " 211: 'Крыльцо на веранду временное. Изготовлено из пескобетонных блоков, установленных на железобетонную плиту.',\n",
              " 212: 'Моечное отделение в доме-бане 1,8 х 2,1 м. Высота потолка 2,6 м. Отделан лиственничной вагонкой 14 мм, на потолке имитация бруса толщиной 22 мм. Покрашены глазурью. В районе душевой кабины стена отделана кафельной плиткой. Пол отделан керамогранитом с высоким бордюром. Под керамогранитом плита ЦСП 20 мм и стяжка. Установлены фарфоровый душевой поддон, душевая стойка, Электрический бак для воды, бак с нагревом воды от печи, тумба с раковиной.',\n",
              " 213: 'Моечное отделение в доме бане 1,8 х 2,1 м. Высота потолка 2,6 м. Отделан лиственничной вагонкой 14 мм, на потолке имитация бруса толщиной 22 мм. Покрашены глазурью. В районе душевой кабины стена отделана кафельной плиткой. Пол отделан керамогранитом с высоким бордюром. Под керамогранитом плита ЦСП 20 мм и стяжка. Установлены фарфоровый душевой поддон, душевая стойка, Электрический бак для воды, бак с нагревом воды от печи, тумба с раковиной.',\n",
              " 214: 'Моечное отделение в доме бане 1,8 х 2,1 м. Высота потолка 2,6 м. Отделан лиственничной вагонкой 14 мм, на потолке имитация бруса толщиной 22 мм. Покрашены глазурью. В районе душевой кабины стена отделана кафельной плиткой. Пол отделан керамогранитом с высоким бордюром. Под керамогранитом плита ЦСП 20 мм и стяжка. Установлены фарфоровый душевой поддон, душевая стойка, Электрический бак для воды, бак с нагревом воды от печи, тумба с раковиной.',\n",
              " 215: 'Установлены фарфоровый душевой поддон, душевая стойка, Электрический бак для воды, бак с нагревом воды от печи, тумба с раковиной.',\n",
              " 216: 'Туалет в доме-бане 0,9 х 1,1 м не доделан. Отгорожен от мойки стенкой из лиственничной имитации бруса.',\n",
              " 217: 'Пристройка к дому-бане 2 х 8 м сварена из квадратной стальной трубы 40 х 40 х 2 мм. Балка из трубы 100 х 50 х 2 мм. Обшита снаружи сэндвичем с пенополистиролом внутри. Снизу пенополистирол зашит металлом от мышей. Пристройка стоит на бетонных сваях глубиной 3 м. Лаги 20 х 5 см. Посередине пристройки лаги усиленные в расчете на установку печи. В пристройку выведен водопровод. Пространство под полом пристройки полностью засыпано опилками.',\n",
              " 218: 'Крыша дома-бани из Ондуллина. Водосточная стальная система из Леруа.',\n",
              " 219: 'Двери в доме-бане различные. Внутри деревянные, снаружи стальные.',\n",
              " 220: 'Поскольку окон в парилке нет, пришлось выводить стальную трубу длиной 3 м наружу через крышу. Тяга в трубе очень хорошая.',\n",
              " 221: 'Канализационный септик расположен в 8 метрах от дома бани размером 3 х 3 х 2,5 м. Из септика просверлены 16 шахт на глубину 2,5 м. Септик засыпан снаружи и изнутри 8 кубами щебня крупной фракции. От дома до септика проложено 2 утепленных оранжевых 110 мм трубы и выведены в доме под туалетом. Далее канализация разведена в мойку, на мансарду и сливные трапы в полу мойки и парилки. Для прочистки труб Керхером имеются колодцы по пути следования труб.',\n",
              " 222: 'Водопровод в дом-баню проложен проколом от гаража до дна септика на глубину 4 метра (сбоку от септика) и оттуда проколом в яму под баней. Выведен в туалет и разведен мойку, баки, раковину и в пристройку.',\n",
              " 223: 'Электричество в дом-баню проведено на глубине 1,2 м от уровня грунта. От техэтажа под дом до септика, и от септика в траншее с канализационными трубами через футляр заведено в дом. Кабель бронированный. Поверх кабеля лежит сигнальная лента. Далее кабель проложен до щитка в комнате. В щитке установлены автоматические выключатели и УЗО фирмы Legrand. Розетки и выключатели тоже этой фирмы. Под розетками установлены металлические пластины. По дому кабели разведены под полом в металлических противопожарных коробах. Провода в коробах также находятся в полимерных противопожарных гофрированных трубах. Открытая проводка расположена в полимерных специальных коробах. Соединения проводов в распределительных коробках спаяны и упрятаны в колпачки. Провода гостовские и имеют двойной запас по мощности.',\n",
              " 224: 'Отопление в доме-бане банной печью. В конструкции стены под окном имеется промежуток, утепленный минеральной ватой под установку трубы газового конвектора.',\n",
              " 225: 'Крыша в доме-бане из Ондуллина по лиственничным стропилам 18 х 4 см и обрешетке. Стропила обработаны известью. Крыша ни в одну зиму не чистилась. Расчитана с двойным коэффициентом.',\n",
              " 226: 'Двери внутри дома-бани деревянные, наружные металлические. Дверь в прихожую из толстого металла, в тамбур китайские.',\n",
              " 227: 'Двери в пристройку дома-бани стальные китайские.',\n",
              " 228: 'Пол в пристройке дома-бани из плит ЦСП толщиной 20 мм по деревянным лагам 20 х 5 см.',\n",
              " 229: 'Стена в пристройке дома-бани сэндвич-панель толщиной 10 мм с пенополистиролом внутри, снизу закрытой металлом.',\n",
              " 230: 'Крыша в пристройке дома-бани из Ондуллина. Обрешетка по стальным стропилам из стальной трубы 40 х 40 мм.',\n",
              " 231: 'Состоит из двух бетонных блоков общим размером 3 х 3 х2.5 м. Подведены вода, электричество, канализация. Под техэтаж засыпано 8 кубов крупного щебня и 8 кубов (для гидроизоляции) песка.',\n",
              " 232: 'ссылка',\n",
              " 233: 'ссылка',\n",
              " 234: 'ссылка',\n",
              " 235: 'ссылка',\n",
              " 236: 'ссылка',\n",
              " 237: 'ссылка',\n",
              " 238: 'ссылка',\n",
              " 239: 'ссылка',\n",
              " 240: 'ссылка',\n",
              " 241: 'ссылка',\n",
              " 242: 'ссылка',\n",
              " 243: 'ссылка',\n",
              " 244: 'ссылка',\n",
              " 245: 'ссылка',\n",
              " 246: 'ссылка',\n",
              " 247: 'ссылка',\n",
              " 248: 'ссылка',\n",
              " 249: 'ссылка',\n",
              " 250: 'ссылка',\n",
              " 251: 'ссылка',\n",
              " 252: 'ссылка',\n",
              " 253: 'ссылка',\n",
              " 254: 'ссылка',\n",
              " 255: 'ссылка',\n",
              " 256: 'ссылка',\n",
              " 257: 'ссылка',\n",
              " 258: 'ссылка',\n",
              " 259: 'ссылка',\n",
              " 260: 'ссылка',\n",
              " 261: 'ссылка',\n",
              " 262: 'ссылка',\n",
              " 263: 'ссылка',\n",
              " 264: 'ссылка',\n",
              " 265: 'ссылка',\n",
              " 266: 'ссылка',\n",
              " 267: 'ссылка',\n",
              " 268: 'ссылка',\n",
              " 269: 'ссылка',\n",
              " 270: 'ссылка',\n",
              " 271: 'ссылка',\n",
              " 272: 'ссылка',\n",
              " 273: 'ссылка',\n",
              " 274: 'ссылка',\n",
              " 275: 'ссылка',\n",
              " 276: 'ссылка',\n",
              " 277: 'ссылка',\n",
              " 278: 'ссылка',\n",
              " 279: 'ссылка',\n",
              " 280: 'ссылка',\n",
              " 281: 'ссылка',\n",
              " 282: 'ссылка',\n",
              " 283: 'ссылка',\n",
              " 284: 'ссылка',\n",
              " 285: 'ссылка',\n",
              " 286: 'ссылка',\n",
              " 287: 'ссылка',\n",
              " 288: 'ссылка',\n",
              " 289: 'ссылка',\n",
              " 290: 'ссылка',\n",
              " 291: 'ссылка',\n",
              " 292: 'ссылка',\n",
              " 293: 'ссылка',\n",
              " 294: 'ссылка',\n",
              " 295: 'ссылка',\n",
              " 296: 'ссылка',\n",
              " 297: 'ссылка',\n",
              " 298: 'ссылка',\n",
              " 299: 'ссылка',\n",
              " 300: 'ссылка',\n",
              " 301: 'ссылка',\n",
              " 302: 'ссылка',\n",
              " 303: 'ссылка',\n",
              " 304: 'сслыка',\n",
              " 305: 'ссылка',\n",
              " 306: 'ссылка',\n",
              " 307: 'ссылка',\n",
              " 308: 'ссылка',\n",
              " 309: 'ссылка',\n",
              " 310: 'ссылка',\n",
              " 311: 'ссылка',\n",
              " 312: 'ссылка',\n",
              " 313: 'ссылка',\n",
              " 314: 'ссылка',\n",
              " 315: 'ссылка',\n",
              " 316: 'ссылка',\n",
              " 317: 'Координаты: 54.893991, 82.986713. Если ехать с Кировского района: по Советскому шоссе третий светофор, направо. Если ехать с Советского района: по Советскому шоссе: третий светофор налево. На шоссе имеется указатель.',\n",
              " 318: 'Координаты: 54.893991, 82.986713. Если ехать с Кировского района: по Советскому шоссе третий светофор, направо. Если ехать с Советского района: по Советскому шоссе: третий светофор налево. На шоссе имеется указатель.',\n",
              " 319: 'Координаты: 54.893991, 82.986713. Если ехать с Кировского района: по Советскому шоссе третий светофор, направо. Если ехать с Советского района: по Советскому шоссе: третий светофор налево. На шоссе имеется указатель.',\n",
              " 320: 'Координаты: 54.893991, 82.986713. Если ехать с Кировского района: по Советскому шоссе третий светофор, направо. Если ехать с Советского района: по Советскому шоссе: третий светофор налево. На шоссе имеется указатель.',\n",
              " 321: 'ДНТ «Планета» ул. Мечтателей, 5, участок № 41 Координаты: 54.893991, 82.986713',\n",
              " 322: 'ДНТ «Планета» ул. Мечтателей, 5, участок № 41 Координаты: 54.893991, 82.986713',\n",
              " 323: 'ДНТ «Планета» ул. Мечтателей, 5, участок № 41 Координаты: 54.893991, 82.986713',\n",
              " 324: 'ДНТ «Планета» ул. Мечтателей, 5, участок № 41 Координаты: 54.893991, 82.986713',\n",
              " 325: 'Координаты: 54.893991, 82.986713. Если ехать с Кировского района: по Советскому шоссе третий светофор, направо. Если ехать с Советского района: по Советскому шоссе: третий светофор налево. На шоссе имеется указатель.',\n",
              " 326: 'На участке находятся дом-баня, гараж, техэтаж под дом.',\n",
              " 327: 'На участке находятся дом-баня, гараж, техэтаж под дом.',\n",
              " 328: 'Участок 30 х 40 м 12 соток.',\n",
              " 329: 'Участок 30 х 40 м 12 соток.',\n",
              " 330: 'Внутренняя площадь гаража - 5,6 х 7,4 метра.',\n",
              " 331: 'Дом-баня с пристройкой наружный размер 8 х 8 метров.',\n",
              " 332: 'Внутренняя площадь гаража - 5,6 х 7,4 метра.',\n",
              " 333: 'Дом-баня с пристройкой наружный размер 8 х 8 метров.',\n",
              " 334: 'Высота потолка гаража 3 метра.',\n",
              " 335: 'Высота потолка дома-бани 2,6 метра.',\n",
              " 336: 'Цвет гаража персиковый.',\n",
              " 337: 'Цвет дома-бани \"Тик\"',\n",
              " 338: 'Свидетельство о регистрации, технические условия.',\n",
              " 339: 'Категория земель - для дачного строительства, надо менять на ИЖС.',\n",
              " 340: 'Потому что я лучший.',\n",
              " 341: 'Телефон риэлтора 222-22-22',\n",
              " 342: 'Дачное некоммерческое партнерство «Планета» учреждено на общем собрании граждан 19.02.2008 года.',\n",
              " 343: 'Дачное некоммерческое партнерство «Планета» учреждено на общем собрании граждан 19.02.2008 года.',\n",
              " 344: 'Дачное некоммерческое партнерство «Планета» учреждено на общем собрании граждан 19.02.2008 года.',\n",
              " 345: 'Дачное некоммерческое партнерство «Планета» учреждено на общем собрании граждан 19.02.2008 года.',\n",
              " 346: 'Учредителями являются 45 человек, сведения о которых внесены в Единый государственный реестр юридических лиц. Юридическое лицо зарегистрировано 04.03.2008 в ИФНС по Октябрьскому району г. Новосибирска. Партнёрство создано в целях реализации гражданами своих прав на получение дачных земельных участков, владение, пользование и распоряжение данными земельными участками (ст. 4 Федерального закона от 15.04.1998 № 66-ФЗ «О садоводческих, огороднических и дачных некоммерческих объединениях граждан»).',\n",
              " 347: 'Земельный участок для размещения ДНТ «Планета» был выделен из состава неразграниченных земель и имел категорию– земли сельскохозяйственного назначения (подтверждалось выпиской из Государственного кадастра недвижимости от 22.08.2008).Общая площадь дачного поселка составляет около 48 гектаров. В настоящее время в ДНТ «Планета» более 215 членов, которые осуществляют дачное строительство на принадлежащих им земельных участках. Все земельные участки имеют разрешенное использование – для дачного строительства.',\n",
              " 348: 'Земельный участок для размещения ДНТ «Планета» был выделен из состава неразграниченных земель и имел категорию– земли сельскохозяйственного назначения (подтверждалось выпиской из Государственного кадастра недвижимости от 22.08.2008).Общая площадь дачного поселка составляет около 48 гектаров. В настоящее время в ДНТ «Планета» более 215 членов, которые осуществляют дачное строительство на принадлежащих им земельных участках. Все земельные участки имеют разрешенное использование – для дачного строительства.',\n",
              " 349: 'Земельный участок для размещения ДНТ «Планета» был выделен из состава неразграниченных земель и имел категорию– земли сельскохозяйственного назначения (подтверждалось выпиской из Государственного кадастра недвижимости от 22.08.2008).Общая площадь дачного поселка составляет около 48 гектаров. В настоящее время в ДНТ «Планета» более 215 членов, которые осуществляют дачное строительство на принадлежащих им земельных участках. Все земельные участки имеют разрешенное использование – для дачного строительства.',\n",
              " 350: 'Земельный участок для размещения ДНТ «Планета» был выделен из состава неразграниченных земель и имел категорию– земли сельскохозяйственного назначения (подтверждалось выпиской из Государственного кадастра недвижимости от 22.08.2008).Общая площадь дачного поселка составляет около 48 гектаров. В настоящее время в ДНТ «Планета» более 215 членов, которые осуществляют дачное строительство на принадлежащих им земельных участках. Все земельные участки имеют разрешенное использование – для дачного строительства.',\n",
              " 351: 'Земельный участок для размещения ДНТ «Планета» был выделен из состава неразграниченных земель и имел категорию– земли сельскохозяйственного назначения (подтверждалось выпиской из Государственного кадастра недвижимости от 22.08.2008).Общая площадь дачного поселка составляет около 48 гектаров. В настоящее время в ДНТ «Планета» более 215 членов, которые осуществляют дачное строительство на принадлежащих им земельных участках. Все земельные участки имеют разрешенное использование – для дачного строительства.',\n",
              " 352: 'Финансирование поселка, строительство объектов инфраструктуры и их содержание осуществляется исключительно за счет членских и целевых взносов членов ДНТ «Планета».',\n",
              " 353: 'Финансирование поселка, строительство объектов инфраструктуры и их содержание осуществляется исключительно за счет членских и целевых взносов членов ДНТ «Планета».',\n",
              " 354: 'Финансирование поселка, строительство объектов инфраструктуры и их содержание осуществляется исключительно за счет членских и целевых взносов членов ДНТ «Планета».',\n",
              " 355: 'Финансирование поселка, строительство объектов инфраструктуры и их содержание осуществляется исключительно за счет членских и целевых взносов членов ДНТ «Планета».',\n",
              " 356: 'Председатель правления: Рoмaнoв Рoмaн Алeкcaндрoвич. Члены правления: Виниченко Иван Михайлович; Маркелов Андрей Владимирович; Громыко Александр Алексеевич; Дзядук Константин Анатольевич; Сухоруков Артем Александрович.',\n",
              " 357: 'Председатель правления: Рoмaнoв Рoмaн Алeкcaндрoвич. Члены правления: Виниченко Иван Михайлович; Маркелов Андрей Владимирович; Громыко Александр Алексеевич; Дзядук Константин Анатольевич; Сухоруков Артем Александрович.',\n",
              " 358: 'Председатель правления: Рoмaнoв Рoмaн Алeкcaндрoвич. Члены правления: Виниченко Иван Михайлович; Маркелов Андрей Владимирович; Громыко Александр Алексеевич; Дзядук Константин Анатольевич; Сухоруков Артем Александрович.',\n",
              " 359: 'Председатель правления: Рoмaнoв Рoмaн Алeкcaндрoвич. Члены правления: Виниченко Иван Михайлович; Маркелов Андрей Владимирович; Громыко Александр Алексеевич; Дзядук Константин Анатольевич; Сухоруков Артем Александрович.',\n",
              " 360: 'Рoмaнoв Рoмaн Алeкcaндрoвич.',\n",
              " 361: 'Виниченко Иван Михайлович; Маркелов Андрей Владимирович; Громыко Александр Алексеевич; Дзядук Константин Анатольевич; Сухоруков Артем Александрович.',\n",
              " 362: 'Правление собирается каждую субботу с 10 до 14 часов, любой член ДНТ  \"Планета\" может присутствовать на собраниях правления и участвовать в работе.',\n",
              " 363: 'Правление собирается каждую субботу с 10 до 14 часов, любой член ДНТ  \"Планета\" может присутствовать на собраниях правления и участвовать в работе.',\n",
              " 364: 'http://мояпланета.рф/karta-poselka'}"
            ]
          },
          "metadata": {},
          "execution_count": 39
        }
      ],
      "source": [
        "data"
      ]
    },
    {
      "cell_type": "code",
      "execution_count": null,
      "metadata": {
        "id": "Jc3S1cREMZcJ"
      },
      "outputs": [],
      "source": [
        "morpher_qwest_tokens=set(morpher_qwest_tokens)"
      ]
    },
    {
      "cell_type": "code",
      "execution_count": null,
      "metadata": {
        "id": "DwsGqEjt0LHC"
      },
      "outputs": [],
      "source": [
        "morpher_qwest_tokens=list(morpher_qwest_tokens)"
      ]
    },
    {
      "cell_type": "code",
      "source": [
        "morpher_qwest_tokens = ['подвал', 'академгородок', 'реквизит', 'спортивный', 'инфраструктура', 'интернет', 'цвет', 'входить', 'посёлок', 'фундамент',\n",
        "     'потолочный', 'режим', 'вентиляция', 'адрес', 'работа', 'ширина', 'гараж', 'канализация', 'длина', 'стена', 'днт', 'крыша', 'охрана', 'проехать', 'предбанник',\n",
        "     'разделка', 'чертёж', 'парилка', 'сайт', 'улица', 'проект', 'печь', 'продавать', 'размер', 'планета', 'телевидение', 'мег', 'банный', 'коттедж', 'расстояние',\n",
        "     'площадка', 'изнутри', 'добраться', 'постройка', 'документ', 'насаждение', 'финансирование', 'карта', 'доехать', 'бухгалтер', 'член', 'потолок', 'бассейн',\n",
        "     'мойка', 'комната', 'площадь', 'душевой', 'ограждение', 'труба', 'пол', 'верховодка', 'озеро', 'мечтатель', 'сотовый', 'чат', 'категория', 'водопровод',\n",
        "     'количество', 'риелтор', 'риэлтор', 'тамбур', 'расписание', 'водоём', 'верховодный', 'посмотреть', 'коммуникация', 'наименование', 'попасть', 'освещение', 'природа', 'растение',\n",
        "     'техэтаж', 'спортплощадка', 'юридический', 'высота', 'транспорт', 'печный', 'вентиляционный', 'геология', 'связь', 'общественный', 'зонирование', 'расположение',\n",
        "     'решить', 'участок', 'стоимость', 'дом', 'окно', 'отделение', 'моечный', 'противопожарный', 'правление', 'дренаж', 'отопление', 'крыльцо', 'дверь',\n",
        "     'дача', 'туалет', 'пристройка', 'устать', 'электричество', 'инженерный', 'перекрытие', 'инженер', 'детский', 'магазин', 'отмостка', 'водоснабжение', 'электрика',\n",
        "     'размещение', 'электроэнергия', 'земля', 'маркс', 'супер', 'месторасположение', 'общество', 'председатель', 'связаться', 'шоссе', 'усадьба', 'вода',\n",
        "     'баня', 'правило', 'проветривание', 'сантехника', 'прихожая', 'схема', 'веранда', 'показать', 'мансарда']"
      ],
      "metadata": {
        "id": "rmMYd1j8Aivd"
      },
      "execution_count": null,
      "outputs": []
    },
    {
      "cell_type": "code",
      "source": [
        ""
      ],
      "metadata": {
        "id": "YvME5SbS6fTs"
      },
      "execution_count": null,
      "outputs": []
    }
  ],
  "metadata": {
    "colab": {
      "collapsed_sections": [],
      "name": "Chat_bot_step2_planeta_qwestions.ipynb",
      "provenance": []
    },
    "gpuClass": "standard",
    "kernelspec": {
      "display_name": "Python 3",
      "language": "python",
      "name": "python3"
    },
    "language_info": {
      "codemirror_mode": {
        "name": "ipython",
        "version": 3
      },
      "file_extension": ".py",
      "mimetype": "text/x-python",
      "name": "python",
      "nbconvert_exporter": "python",
      "pygments_lexer": "ipython3",
      "version": "3.8.5"
    },
    "widgets": {
      "application/vnd.jupyter.widget-state+json": {
        "2ec7c9fa050d41caa915baacc3b03549": {
          "model_module": "@jupyter-widgets/controls",
          "model_name": "HBoxModel",
          "model_module_version": "1.5.0",
          "state": {
            "_dom_classes": [],
            "_model_module": "@jupyter-widgets/controls",
            "_model_module_version": "1.5.0",
            "_model_name": "HBoxModel",
            "_view_count": null,
            "_view_module": "@jupyter-widgets/controls",
            "_view_module_version": "1.5.0",
            "_view_name": "HBoxView",
            "box_style": "",
            "children": [
              "IPY_MODEL_1cb3eb33122049d783235156b4ba8ef9",
              "IPY_MODEL_f208661ad161469b916661ef055a5086",
              "IPY_MODEL_b4415a9d381d41b6b353d9d7ae21cbcd"
            ],
            "layout": "IPY_MODEL_3755761e233d461aa0de1ad5a7c5a530"
          }
        },
        "1cb3eb33122049d783235156b4ba8ef9": {
          "model_module": "@jupyter-widgets/controls",
          "model_name": "HTMLModel",
          "model_module_version": "1.5.0",
          "state": {
            "_dom_classes": [],
            "_model_module": "@jupyter-widgets/controls",
            "_model_module_version": "1.5.0",
            "_model_name": "HTMLModel",
            "_view_count": null,
            "_view_module": "@jupyter-widgets/controls",
            "_view_module_version": "1.5.0",
            "_view_name": "HTMLView",
            "description": "",
            "description_tooltip": null,
            "layout": "IPY_MODEL_6bdd3f4baed3415ea84c4dc7284c8fc8",
            "placeholder": "​",
            "style": "IPY_MODEL_8173bf18ca234d7d86c50f44b6f17096",
            "value": ""
          }
        },
        "f208661ad161469b916661ef055a5086": {
          "model_module": "@jupyter-widgets/controls",
          "model_name": "FloatProgressModel",
          "model_module_version": "1.5.0",
          "state": {
            "_dom_classes": [],
            "_model_module": "@jupyter-widgets/controls",
            "_model_module_version": "1.5.0",
            "_model_name": "FloatProgressModel",
            "_view_count": null,
            "_view_module": "@jupyter-widgets/controls",
            "_view_module_version": "1.5.0",
            "_view_name": "ProgressView",
            "bar_style": "success",
            "description": "",
            "description_tooltip": null,
            "layout": "IPY_MODEL_e809782d20e640228cf493e33fc07198",
            "max": 1,
            "min": 0,
            "orientation": "horizontal",
            "style": "IPY_MODEL_c5a8f6b89e764f1e969047bc68fe204b",
            "value": 1
          }
        },
        "b4415a9d381d41b6b353d9d7ae21cbcd": {
          "model_module": "@jupyter-widgets/controls",
          "model_name": "HTMLModel",
          "model_module_version": "1.5.0",
          "state": {
            "_dom_classes": [],
            "_model_module": "@jupyter-widgets/controls",
            "_model_module_version": "1.5.0",
            "_model_name": "HTMLModel",
            "_view_count": null,
            "_view_module": "@jupyter-widgets/controls",
            "_view_module_version": "1.5.0",
            "_view_name": "HTMLView",
            "description": "",
            "description_tooltip": null,
            "layout": "IPY_MODEL_d9091e41af7447f0a43ddc0f2641e0ce",
            "placeholder": "​",
            "style": "IPY_MODEL_68967b6faf9e49e9be49acebe0354fa7",
            "value": " 666/? [00:00&lt;00:00,  1.89it/s]"
          }
        },
        "3755761e233d461aa0de1ad5a7c5a530": {
          "model_module": "@jupyter-widgets/base",
          "model_name": "LayoutModel",
          "model_module_version": "1.2.0",
          "state": {
            "_model_module": "@jupyter-widgets/base",
            "_model_module_version": "1.2.0",
            "_model_name": "LayoutModel",
            "_view_count": null,
            "_view_module": "@jupyter-widgets/base",
            "_view_module_version": "1.2.0",
            "_view_name": "LayoutView",
            "align_content": null,
            "align_items": null,
            "align_self": null,
            "border": null,
            "bottom": null,
            "display": null,
            "flex": null,
            "flex_flow": null,
            "grid_area": null,
            "grid_auto_columns": null,
            "grid_auto_flow": null,
            "grid_auto_rows": null,
            "grid_column": null,
            "grid_gap": null,
            "grid_row": null,
            "grid_template_areas": null,
            "grid_template_columns": null,
            "grid_template_rows": null,
            "height": null,
            "justify_content": null,
            "justify_items": null,
            "left": null,
            "margin": null,
            "max_height": null,
            "max_width": null,
            "min_height": null,
            "min_width": null,
            "object_fit": null,
            "object_position": null,
            "order": null,
            "overflow": null,
            "overflow_x": null,
            "overflow_y": null,
            "padding": null,
            "right": null,
            "top": null,
            "visibility": null,
            "width": null
          }
        },
        "6bdd3f4baed3415ea84c4dc7284c8fc8": {
          "model_module": "@jupyter-widgets/base",
          "model_name": "LayoutModel",
          "model_module_version": "1.2.0",
          "state": {
            "_model_module": "@jupyter-widgets/base",
            "_model_module_version": "1.2.0",
            "_model_name": "LayoutModel",
            "_view_count": null,
            "_view_module": "@jupyter-widgets/base",
            "_view_module_version": "1.2.0",
            "_view_name": "LayoutView",
            "align_content": null,
            "align_items": null,
            "align_self": null,
            "border": null,
            "bottom": null,
            "display": null,
            "flex": null,
            "flex_flow": null,
            "grid_area": null,
            "grid_auto_columns": null,
            "grid_auto_flow": null,
            "grid_auto_rows": null,
            "grid_column": null,
            "grid_gap": null,
            "grid_row": null,
            "grid_template_areas": null,
            "grid_template_columns": null,
            "grid_template_rows": null,
            "height": null,
            "justify_content": null,
            "justify_items": null,
            "left": null,
            "margin": null,
            "max_height": null,
            "max_width": null,
            "min_height": null,
            "min_width": null,
            "object_fit": null,
            "object_position": null,
            "order": null,
            "overflow": null,
            "overflow_x": null,
            "overflow_y": null,
            "padding": null,
            "right": null,
            "top": null,
            "visibility": null,
            "width": null
          }
        },
        "8173bf18ca234d7d86c50f44b6f17096": {
          "model_module": "@jupyter-widgets/controls",
          "model_name": "DescriptionStyleModel",
          "model_module_version": "1.5.0",
          "state": {
            "_model_module": "@jupyter-widgets/controls",
            "_model_module_version": "1.5.0",
            "_model_name": "DescriptionStyleModel",
            "_view_count": null,
            "_view_module": "@jupyter-widgets/base",
            "_view_module_version": "1.2.0",
            "_view_name": "StyleView",
            "description_width": ""
          }
        },
        "e809782d20e640228cf493e33fc07198": {
          "model_module": "@jupyter-widgets/base",
          "model_name": "LayoutModel",
          "model_module_version": "1.2.0",
          "state": {
            "_model_module": "@jupyter-widgets/base",
            "_model_module_version": "1.2.0",
            "_model_name": "LayoutModel",
            "_view_count": null,
            "_view_module": "@jupyter-widgets/base",
            "_view_module_version": "1.2.0",
            "_view_name": "LayoutView",
            "align_content": null,
            "align_items": null,
            "align_self": null,
            "border": null,
            "bottom": null,
            "display": null,
            "flex": null,
            "flex_flow": null,
            "grid_area": null,
            "grid_auto_columns": null,
            "grid_auto_flow": null,
            "grid_auto_rows": null,
            "grid_column": null,
            "grid_gap": null,
            "grid_row": null,
            "grid_template_areas": null,
            "grid_template_columns": null,
            "grid_template_rows": null,
            "height": null,
            "justify_content": null,
            "justify_items": null,
            "left": null,
            "margin": null,
            "max_height": null,
            "max_width": null,
            "min_height": null,
            "min_width": null,
            "object_fit": null,
            "object_position": null,
            "order": null,
            "overflow": null,
            "overflow_x": null,
            "overflow_y": null,
            "padding": null,
            "right": null,
            "top": null,
            "visibility": null,
            "width": "20px"
          }
        },
        "c5a8f6b89e764f1e969047bc68fe204b": {
          "model_module": "@jupyter-widgets/controls",
          "model_name": "ProgressStyleModel",
          "model_module_version": "1.5.0",
          "state": {
            "_model_module": "@jupyter-widgets/controls",
            "_model_module_version": "1.5.0",
            "_model_name": "ProgressStyleModel",
            "_view_count": null,
            "_view_module": "@jupyter-widgets/base",
            "_view_module_version": "1.2.0",
            "_view_name": "StyleView",
            "bar_color": null,
            "description_width": ""
          }
        },
        "d9091e41af7447f0a43ddc0f2641e0ce": {
          "model_module": "@jupyter-widgets/base",
          "model_name": "LayoutModel",
          "model_module_version": "1.2.0",
          "state": {
            "_model_module": "@jupyter-widgets/base",
            "_model_module_version": "1.2.0",
            "_model_name": "LayoutModel",
            "_view_count": null,
            "_view_module": "@jupyter-widgets/base",
            "_view_module_version": "1.2.0",
            "_view_name": "LayoutView",
            "align_content": null,
            "align_items": null,
            "align_self": null,
            "border": null,
            "bottom": null,
            "display": null,
            "flex": null,
            "flex_flow": null,
            "grid_area": null,
            "grid_auto_columns": null,
            "grid_auto_flow": null,
            "grid_auto_rows": null,
            "grid_column": null,
            "grid_gap": null,
            "grid_row": null,
            "grid_template_areas": null,
            "grid_template_columns": null,
            "grid_template_rows": null,
            "height": null,
            "justify_content": null,
            "justify_items": null,
            "left": null,
            "margin": null,
            "max_height": null,
            "max_width": null,
            "min_height": null,
            "min_width": null,
            "object_fit": null,
            "object_position": null,
            "order": null,
            "overflow": null,
            "overflow_x": null,
            "overflow_y": null,
            "padding": null,
            "right": null,
            "top": null,
            "visibility": null,
            "width": null
          }
        },
        "68967b6faf9e49e9be49acebe0354fa7": {
          "model_module": "@jupyter-widgets/controls",
          "model_name": "DescriptionStyleModel",
          "model_module_version": "1.5.0",
          "state": {
            "_model_module": "@jupyter-widgets/controls",
            "_model_module_version": "1.5.0",
            "_model_name": "DescriptionStyleModel",
            "_view_count": null,
            "_view_module": "@jupyter-widgets/base",
            "_view_module_version": "1.2.0",
            "_view_name": "StyleView",
            "description_width": ""
          }
        },
        "d8cb9084782845c5a9f21017c9251c92": {
          "model_module": "@jupyter-widgets/controls",
          "model_name": "HBoxModel",
          "model_module_version": "1.5.0",
          "state": {
            "_dom_classes": [],
            "_model_module": "@jupyter-widgets/controls",
            "_model_module_version": "1.5.0",
            "_model_name": "HBoxModel",
            "_view_count": null,
            "_view_module": "@jupyter-widgets/controls",
            "_view_module_version": "1.5.0",
            "_view_name": "HBoxView",
            "box_style": "",
            "children": [
              "IPY_MODEL_ea49075f70974d2d93383c9d4b8e1fbb",
              "IPY_MODEL_e76f07cd22b84ea5af3f31e23e2b0833",
              "IPY_MODEL_d84d0ebb03764b06995c7f9d56f3fc67"
            ],
            "layout": "IPY_MODEL_f4eb7e6d2aa442688c395bbdb7716119"
          }
        },
        "ea49075f70974d2d93383c9d4b8e1fbb": {
          "model_module": "@jupyter-widgets/controls",
          "model_name": "HTMLModel",
          "model_module_version": "1.5.0",
          "state": {
            "_dom_classes": [],
            "_model_module": "@jupyter-widgets/controls",
            "_model_module_version": "1.5.0",
            "_model_name": "HTMLModel",
            "_view_count": null,
            "_view_module": "@jupyter-widgets/controls",
            "_view_module_version": "1.5.0",
            "_view_name": "HTMLView",
            "description": "",
            "description_tooltip": null,
            "layout": "IPY_MODEL_f0b3fc0d8ddc47bd83900e0d0b38d325",
            "placeholder": "​",
            "style": "IPY_MODEL_e4deeced18cb4d2987e9cd9486df020d",
            "value": ""
          }
        },
        "e76f07cd22b84ea5af3f31e23e2b0833": {
          "model_module": "@jupyter-widgets/controls",
          "model_name": "FloatProgressModel",
          "model_module_version": "1.5.0",
          "state": {
            "_dom_classes": [],
            "_model_module": "@jupyter-widgets/controls",
            "_model_module_version": "1.5.0",
            "_model_name": "FloatProgressModel",
            "_view_count": null,
            "_view_module": "@jupyter-widgets/controls",
            "_view_module_version": "1.5.0",
            "_view_name": "ProgressView",
            "bar_style": "success",
            "description": "",
            "description_tooltip": null,
            "layout": "IPY_MODEL_a98b77b4d9014b018d2845ebc2ca92af",
            "max": 1,
            "min": 0,
            "orientation": "horizontal",
            "style": "IPY_MODEL_97836cf2eb2c4bae95ec375ab9374ff2",
            "value": 1
          }
        },
        "d84d0ebb03764b06995c7f9d56f3fc67": {
          "model_module": "@jupyter-widgets/controls",
          "model_name": "HTMLModel",
          "model_module_version": "1.5.0",
          "state": {
            "_dom_classes": [],
            "_model_module": "@jupyter-widgets/controls",
            "_model_module_version": "1.5.0",
            "_model_name": "HTMLModel",
            "_view_count": null,
            "_view_module": "@jupyter-widgets/controls",
            "_view_module_version": "1.5.0",
            "_view_name": "HTMLView",
            "description": "",
            "description_tooltip": null,
            "layout": "IPY_MODEL_9598ce1530c644a0ac142b11e8171453",
            "placeholder": "​",
            "style": "IPY_MODEL_efc99e26fcf14436b81e3d0ac63bab2f",
            "value": " 365/? [00:00&lt;00:00, 714.62it/s]"
          }
        },
        "f4eb7e6d2aa442688c395bbdb7716119": {
          "model_module": "@jupyter-widgets/base",
          "model_name": "LayoutModel",
          "model_module_version": "1.2.0",
          "state": {
            "_model_module": "@jupyter-widgets/base",
            "_model_module_version": "1.2.0",
            "_model_name": "LayoutModel",
            "_view_count": null,
            "_view_module": "@jupyter-widgets/base",
            "_view_module_version": "1.2.0",
            "_view_name": "LayoutView",
            "align_content": null,
            "align_items": null,
            "align_self": null,
            "border": null,
            "bottom": null,
            "display": null,
            "flex": null,
            "flex_flow": null,
            "grid_area": null,
            "grid_auto_columns": null,
            "grid_auto_flow": null,
            "grid_auto_rows": null,
            "grid_column": null,
            "grid_gap": null,
            "grid_row": null,
            "grid_template_areas": null,
            "grid_template_columns": null,
            "grid_template_rows": null,
            "height": null,
            "justify_content": null,
            "justify_items": null,
            "left": null,
            "margin": null,
            "max_height": null,
            "max_width": null,
            "min_height": null,
            "min_width": null,
            "object_fit": null,
            "object_position": null,
            "order": null,
            "overflow": null,
            "overflow_x": null,
            "overflow_y": null,
            "padding": null,
            "right": null,
            "top": null,
            "visibility": null,
            "width": null
          }
        },
        "f0b3fc0d8ddc47bd83900e0d0b38d325": {
          "model_module": "@jupyter-widgets/base",
          "model_name": "LayoutModel",
          "model_module_version": "1.2.0",
          "state": {
            "_model_module": "@jupyter-widgets/base",
            "_model_module_version": "1.2.0",
            "_model_name": "LayoutModel",
            "_view_count": null,
            "_view_module": "@jupyter-widgets/base",
            "_view_module_version": "1.2.0",
            "_view_name": "LayoutView",
            "align_content": null,
            "align_items": null,
            "align_self": null,
            "border": null,
            "bottom": null,
            "display": null,
            "flex": null,
            "flex_flow": null,
            "grid_area": null,
            "grid_auto_columns": null,
            "grid_auto_flow": null,
            "grid_auto_rows": null,
            "grid_column": null,
            "grid_gap": null,
            "grid_row": null,
            "grid_template_areas": null,
            "grid_template_columns": null,
            "grid_template_rows": null,
            "height": null,
            "justify_content": null,
            "justify_items": null,
            "left": null,
            "margin": null,
            "max_height": null,
            "max_width": null,
            "min_height": null,
            "min_width": null,
            "object_fit": null,
            "object_position": null,
            "order": null,
            "overflow": null,
            "overflow_x": null,
            "overflow_y": null,
            "padding": null,
            "right": null,
            "top": null,
            "visibility": null,
            "width": null
          }
        },
        "e4deeced18cb4d2987e9cd9486df020d": {
          "model_module": "@jupyter-widgets/controls",
          "model_name": "DescriptionStyleModel",
          "model_module_version": "1.5.0",
          "state": {
            "_model_module": "@jupyter-widgets/controls",
            "_model_module_version": "1.5.0",
            "_model_name": "DescriptionStyleModel",
            "_view_count": null,
            "_view_module": "@jupyter-widgets/base",
            "_view_module_version": "1.2.0",
            "_view_name": "StyleView",
            "description_width": ""
          }
        },
        "a98b77b4d9014b018d2845ebc2ca92af": {
          "model_module": "@jupyter-widgets/base",
          "model_name": "LayoutModel",
          "model_module_version": "1.2.0",
          "state": {
            "_model_module": "@jupyter-widgets/base",
            "_model_module_version": "1.2.0",
            "_model_name": "LayoutModel",
            "_view_count": null,
            "_view_module": "@jupyter-widgets/base",
            "_view_module_version": "1.2.0",
            "_view_name": "LayoutView",
            "align_content": null,
            "align_items": null,
            "align_self": null,
            "border": null,
            "bottom": null,
            "display": null,
            "flex": null,
            "flex_flow": null,
            "grid_area": null,
            "grid_auto_columns": null,
            "grid_auto_flow": null,
            "grid_auto_rows": null,
            "grid_column": null,
            "grid_gap": null,
            "grid_row": null,
            "grid_template_areas": null,
            "grid_template_columns": null,
            "grid_template_rows": null,
            "height": null,
            "justify_content": null,
            "justify_items": null,
            "left": null,
            "margin": null,
            "max_height": null,
            "max_width": null,
            "min_height": null,
            "min_width": null,
            "object_fit": null,
            "object_position": null,
            "order": null,
            "overflow": null,
            "overflow_x": null,
            "overflow_y": null,
            "padding": null,
            "right": null,
            "top": null,
            "visibility": null,
            "width": "20px"
          }
        },
        "97836cf2eb2c4bae95ec375ab9374ff2": {
          "model_module": "@jupyter-widgets/controls",
          "model_name": "ProgressStyleModel",
          "model_module_version": "1.5.0",
          "state": {
            "_model_module": "@jupyter-widgets/controls",
            "_model_module_version": "1.5.0",
            "_model_name": "ProgressStyleModel",
            "_view_count": null,
            "_view_module": "@jupyter-widgets/base",
            "_view_module_version": "1.2.0",
            "_view_name": "StyleView",
            "bar_color": null,
            "description_width": ""
          }
        },
        "9598ce1530c644a0ac142b11e8171453": {
          "model_module": "@jupyter-widgets/base",
          "model_name": "LayoutModel",
          "model_module_version": "1.2.0",
          "state": {
            "_model_module": "@jupyter-widgets/base",
            "_model_module_version": "1.2.0",
            "_model_name": "LayoutModel",
            "_view_count": null,
            "_view_module": "@jupyter-widgets/base",
            "_view_module_version": "1.2.0",
            "_view_name": "LayoutView",
            "align_content": null,
            "align_items": null,
            "align_self": null,
            "border": null,
            "bottom": null,
            "display": null,
            "flex": null,
            "flex_flow": null,
            "grid_area": null,
            "grid_auto_columns": null,
            "grid_auto_flow": null,
            "grid_auto_rows": null,
            "grid_column": null,
            "grid_gap": null,
            "grid_row": null,
            "grid_template_areas": null,
            "grid_template_columns": null,
            "grid_template_rows": null,
            "height": null,
            "justify_content": null,
            "justify_items": null,
            "left": null,
            "margin": null,
            "max_height": null,
            "max_width": null,
            "min_height": null,
            "min_width": null,
            "object_fit": null,
            "object_position": null,
            "order": null,
            "overflow": null,
            "overflow_x": null,
            "overflow_y": null,
            "padding": null,
            "right": null,
            "top": null,
            "visibility": null,
            "width": null
          }
        },
        "efc99e26fcf14436b81e3d0ac63bab2f": {
          "model_module": "@jupyter-widgets/controls",
          "model_name": "DescriptionStyleModel",
          "model_module_version": "1.5.0",
          "state": {
            "_model_module": "@jupyter-widgets/controls",
            "_model_module_version": "1.5.0",
            "_model_name": "DescriptionStyleModel",
            "_view_count": null,
            "_view_module": "@jupyter-widgets/base",
            "_view_module_version": "1.2.0",
            "_view_name": "StyleView",
            "description_width": ""
          }
        }
      }
    }
  },
  "nbformat": 4,
  "nbformat_minor": 0
}